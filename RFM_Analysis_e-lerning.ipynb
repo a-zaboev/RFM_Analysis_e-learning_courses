{
 "cells": [
  {
   "cell_type": "code",
   "execution_count": 3,
   "metadata": {},
   "outputs": [],
   "source": [
    "import pandas as pd\n",
    "%matplotlib inline\n",
    "import matplotlib.pyplot as plt\n",
    "import seaborn as sns\n",
    "\n",
    "import plotly.express as px"
   ]
  },
  {
   "cell_type": "code",
   "execution_count": 4,
   "metadata": {},
   "outputs": [
    {
     "data": {
      "text/html": [
       "<div>\n",
       "<style scoped>\n",
       "    .dataframe tbody tr th:only-of-type {\n",
       "        vertical-align: middle;\n",
       "    }\n",
       "\n",
       "    .dataframe tbody tr th {\n",
       "        vertical-align: top;\n",
       "    }\n",
       "\n",
       "    .dataframe thead th {\n",
       "        text-align: right;\n",
       "    }\n",
       "</style>\n",
       "<table border=\"1\" class=\"dataframe\">\n",
       "  <thead>\n",
       "    <tr style=\"text-align: right;\">\n",
       "      <th></th>\n",
       "      <th>id_assessment</th>\n",
       "      <th>id_student</th>\n",
       "      <th>date_submitted</th>\n",
       "      <th>is_banked</th>\n",
       "      <th>score</th>\n",
       "      <th>code_module</th>\n",
       "      <th>code_presentation</th>\n",
       "      <th>assessment_type</th>\n",
       "      <th>date</th>\n",
       "      <th>weight</th>\n",
       "    </tr>\n",
       "  </thead>\n",
       "  <tbody>\n",
       "    <tr>\n",
       "      <th>0</th>\n",
       "      <td>1752</td>\n",
       "      <td>11391</td>\n",
       "      <td>18</td>\n",
       "      <td>0</td>\n",
       "      <td>78.0</td>\n",
       "      <td>AAA</td>\n",
       "      <td>2013J</td>\n",
       "      <td>TMA</td>\n",
       "      <td>19.0</td>\n",
       "      <td>10.0</td>\n",
       "    </tr>\n",
       "    <tr>\n",
       "      <th>1</th>\n",
       "      <td>1752</td>\n",
       "      <td>28400</td>\n",
       "      <td>22</td>\n",
       "      <td>0</td>\n",
       "      <td>70.0</td>\n",
       "      <td>AAA</td>\n",
       "      <td>2013J</td>\n",
       "      <td>TMA</td>\n",
       "      <td>19.0</td>\n",
       "      <td>10.0</td>\n",
       "    </tr>\n",
       "    <tr>\n",
       "      <th>2</th>\n",
       "      <td>1752</td>\n",
       "      <td>31604</td>\n",
       "      <td>17</td>\n",
       "      <td>0</td>\n",
       "      <td>72.0</td>\n",
       "      <td>AAA</td>\n",
       "      <td>2013J</td>\n",
       "      <td>TMA</td>\n",
       "      <td>19.0</td>\n",
       "      <td>10.0</td>\n",
       "    </tr>\n",
       "    <tr>\n",
       "      <th>3</th>\n",
       "      <td>1752</td>\n",
       "      <td>32885</td>\n",
       "      <td>26</td>\n",
       "      <td>0</td>\n",
       "      <td>69.0</td>\n",
       "      <td>AAA</td>\n",
       "      <td>2013J</td>\n",
       "      <td>TMA</td>\n",
       "      <td>19.0</td>\n",
       "      <td>10.0</td>\n",
       "    </tr>\n",
       "    <tr>\n",
       "      <th>4</th>\n",
       "      <td>1752</td>\n",
       "      <td>38053</td>\n",
       "      <td>19</td>\n",
       "      <td>0</td>\n",
       "      <td>79.0</td>\n",
       "      <td>AAA</td>\n",
       "      <td>2013J</td>\n",
       "      <td>TMA</td>\n",
       "      <td>19.0</td>\n",
       "      <td>10.0</td>\n",
       "    </tr>\n",
       "    <tr>\n",
       "      <th>5</th>\n",
       "      <td>1752</td>\n",
       "      <td>45462</td>\n",
       "      <td>20</td>\n",
       "      <td>0</td>\n",
       "      <td>70.0</td>\n",
       "      <td>AAA</td>\n",
       "      <td>2013J</td>\n",
       "      <td>TMA</td>\n",
       "      <td>19.0</td>\n",
       "      <td>10.0</td>\n",
       "    </tr>\n",
       "    <tr>\n",
       "      <th>6</th>\n",
       "      <td>1752</td>\n",
       "      <td>45642</td>\n",
       "      <td>18</td>\n",
       "      <td>0</td>\n",
       "      <td>72.0</td>\n",
       "      <td>AAA</td>\n",
       "      <td>2013J</td>\n",
       "      <td>TMA</td>\n",
       "      <td>19.0</td>\n",
       "      <td>10.0</td>\n",
       "    </tr>\n",
       "    <tr>\n",
       "      <th>7</th>\n",
       "      <td>1752</td>\n",
       "      <td>52130</td>\n",
       "      <td>19</td>\n",
       "      <td>0</td>\n",
       "      <td>72.0</td>\n",
       "      <td>AAA</td>\n",
       "      <td>2013J</td>\n",
       "      <td>TMA</td>\n",
       "      <td>19.0</td>\n",
       "      <td>10.0</td>\n",
       "    </tr>\n",
       "    <tr>\n",
       "      <th>8</th>\n",
       "      <td>1752</td>\n",
       "      <td>53025</td>\n",
       "      <td>9</td>\n",
       "      <td>0</td>\n",
       "      <td>71.0</td>\n",
       "      <td>AAA</td>\n",
       "      <td>2013J</td>\n",
       "      <td>TMA</td>\n",
       "      <td>19.0</td>\n",
       "      <td>10.0</td>\n",
       "    </tr>\n",
       "    <tr>\n",
       "      <th>9</th>\n",
       "      <td>1752</td>\n",
       "      <td>57506</td>\n",
       "      <td>18</td>\n",
       "      <td>0</td>\n",
       "      <td>68.0</td>\n",
       "      <td>AAA</td>\n",
       "      <td>2013J</td>\n",
       "      <td>TMA</td>\n",
       "      <td>19.0</td>\n",
       "      <td>10.0</td>\n",
       "    </tr>\n",
       "    <tr>\n",
       "      <th>10</th>\n",
       "      <td>1752</td>\n",
       "      <td>58873</td>\n",
       "      <td>19</td>\n",
       "      <td>0</td>\n",
       "      <td>73.0</td>\n",
       "      <td>AAA</td>\n",
       "      <td>2013J</td>\n",
       "      <td>TMA</td>\n",
       "      <td>19.0</td>\n",
       "      <td>10.0</td>\n",
       "    </tr>\n",
       "    <tr>\n",
       "      <th>11</th>\n",
       "      <td>1752</td>\n",
       "      <td>59185</td>\n",
       "      <td>18</td>\n",
       "      <td>0</td>\n",
       "      <td>67.0</td>\n",
       "      <td>AAA</td>\n",
       "      <td>2013J</td>\n",
       "      <td>TMA</td>\n",
       "      <td>19.0</td>\n",
       "      <td>10.0</td>\n",
       "    </tr>\n",
       "    <tr>\n",
       "      <th>12</th>\n",
       "      <td>1752</td>\n",
       "      <td>62155</td>\n",
       "      <td>17</td>\n",
       "      <td>0</td>\n",
       "      <td>73.0</td>\n",
       "      <td>AAA</td>\n",
       "      <td>2013J</td>\n",
       "      <td>TMA</td>\n",
       "      <td>19.0</td>\n",
       "      <td>10.0</td>\n",
       "    </tr>\n",
       "    <tr>\n",
       "      <th>13</th>\n",
       "      <td>1752</td>\n",
       "      <td>63400</td>\n",
       "      <td>19</td>\n",
       "      <td>0</td>\n",
       "      <td>83.0</td>\n",
       "      <td>AAA</td>\n",
       "      <td>2013J</td>\n",
       "      <td>TMA</td>\n",
       "      <td>19.0</td>\n",
       "      <td>10.0</td>\n",
       "    </tr>\n",
       "    <tr>\n",
       "      <th>14</th>\n",
       "      <td>1752</td>\n",
       "      <td>65002</td>\n",
       "      <td>17</td>\n",
       "      <td>0</td>\n",
       "      <td>66.0</td>\n",
       "      <td>AAA</td>\n",
       "      <td>2013J</td>\n",
       "      <td>TMA</td>\n",
       "      <td>19.0</td>\n",
       "      <td>10.0</td>\n",
       "    </tr>\n",
       "    <tr>\n",
       "      <th>15</th>\n",
       "      <td>1752</td>\n",
       "      <td>70464</td>\n",
       "      <td>19</td>\n",
       "      <td>0</td>\n",
       "      <td>59.0</td>\n",
       "      <td>AAA</td>\n",
       "      <td>2013J</td>\n",
       "      <td>TMA</td>\n",
       "      <td>19.0</td>\n",
       "      <td>10.0</td>\n",
       "    </tr>\n",
       "    <tr>\n",
       "      <th>16</th>\n",
       "      <td>1752</td>\n",
       "      <td>71361</td>\n",
       "      <td>19</td>\n",
       "      <td>0</td>\n",
       "      <td>82.0</td>\n",
       "      <td>AAA</td>\n",
       "      <td>2013J</td>\n",
       "      <td>TMA</td>\n",
       "      <td>19.0</td>\n",
       "      <td>10.0</td>\n",
       "    </tr>\n",
       "    <tr>\n",
       "      <th>17</th>\n",
       "      <td>1752</td>\n",
       "      <td>74372</td>\n",
       "      <td>22</td>\n",
       "      <td>0</td>\n",
       "      <td>60.0</td>\n",
       "      <td>AAA</td>\n",
       "      <td>2013J</td>\n",
       "      <td>TMA</td>\n",
       "      <td>19.0</td>\n",
       "      <td>10.0</td>\n",
       "    </tr>\n",
       "    <tr>\n",
       "      <th>18</th>\n",
       "      <td>1752</td>\n",
       "      <td>75091</td>\n",
       "      <td>18</td>\n",
       "      <td>0</td>\n",
       "      <td>67.0</td>\n",
       "      <td>AAA</td>\n",
       "      <td>2013J</td>\n",
       "      <td>TMA</td>\n",
       "      <td>19.0</td>\n",
       "      <td>10.0</td>\n",
       "    </tr>\n",
       "    <tr>\n",
       "      <th>19</th>\n",
       "      <td>1752</td>\n",
       "      <td>77367</td>\n",
       "      <td>18</td>\n",
       "      <td>0</td>\n",
       "      <td>73.0</td>\n",
       "      <td>AAA</td>\n",
       "      <td>2013J</td>\n",
       "      <td>TMA</td>\n",
       "      <td>19.0</td>\n",
       "      <td>10.0</td>\n",
       "    </tr>\n",
       "  </tbody>\n",
       "</table>\n",
       "</div>"
      ],
      "text/plain": [
       "    id_assessment  id_student  date_submitted  is_banked  score code_module  \\\n",
       "0            1752       11391              18          0   78.0         AAA   \n",
       "1            1752       28400              22          0   70.0         AAA   \n",
       "2            1752       31604              17          0   72.0         AAA   \n",
       "3            1752       32885              26          0   69.0         AAA   \n",
       "4            1752       38053              19          0   79.0         AAA   \n",
       "5            1752       45462              20          0   70.0         AAA   \n",
       "6            1752       45642              18          0   72.0         AAA   \n",
       "7            1752       52130              19          0   72.0         AAA   \n",
       "8            1752       53025               9          0   71.0         AAA   \n",
       "9            1752       57506              18          0   68.0         AAA   \n",
       "10           1752       58873              19          0   73.0         AAA   \n",
       "11           1752       59185              18          0   67.0         AAA   \n",
       "12           1752       62155              17          0   73.0         AAA   \n",
       "13           1752       63400              19          0   83.0         AAA   \n",
       "14           1752       65002              17          0   66.0         AAA   \n",
       "15           1752       70464              19          0   59.0         AAA   \n",
       "16           1752       71361              19          0   82.0         AAA   \n",
       "17           1752       74372              22          0   60.0         AAA   \n",
       "18           1752       75091              18          0   67.0         AAA   \n",
       "19           1752       77367              18          0   73.0         AAA   \n",
       "\n",
       "   code_presentation assessment_type  date  weight  \n",
       "0              2013J             TMA  19.0    10.0  \n",
       "1              2013J             TMA  19.0    10.0  \n",
       "2              2013J             TMA  19.0    10.0  \n",
       "3              2013J             TMA  19.0    10.0  \n",
       "4              2013J             TMA  19.0    10.0  \n",
       "5              2013J             TMA  19.0    10.0  \n",
       "6              2013J             TMA  19.0    10.0  \n",
       "7              2013J             TMA  19.0    10.0  \n",
       "8              2013J             TMA  19.0    10.0  \n",
       "9              2013J             TMA  19.0    10.0  \n",
       "10             2013J             TMA  19.0    10.0  \n",
       "11             2013J             TMA  19.0    10.0  \n",
       "12             2013J             TMA  19.0    10.0  \n",
       "13             2013J             TMA  19.0    10.0  \n",
       "14             2013J             TMA  19.0    10.0  \n",
       "15             2013J             TMA  19.0    10.0  \n",
       "16             2013J             TMA  19.0    10.0  \n",
       "17             2013J             TMA  19.0    10.0  \n",
       "18             2013J             TMA  19.0    10.0  \n",
       "19             2013J             TMA  19.0    10.0  "
      ]
     },
     "execution_count": 4,
     "metadata": {},
     "output_type": "execute_result"
    }
   ],
   "source": [
    "studentAssessment = pd.read_csv('~/Data_for_first_project/studentAssessment.csv')\n",
    "assessments = pd.read_csv('~/Data_for_first_project/assessments.csv')\n",
    "\n",
    "Total_assessments = studentAssessment.merge(assessments, on = 'id_assessment')\n",
    "#джойним данные по сдачам и данные по экзаменам.\n",
    "\n",
    "Total_assessments.head(20)"
   ]
  },
  {
   "cell_type": "code",
   "execution_count": 5,
   "metadata": {},
   "outputs": [],
   "source": [
    "Exams = Total_assessments.query('assessment_type == \"Exam\"')"
   ]
  },
  {
   "cell_type": "markdown",
   "metadata": {},
   "source": [
    "Берём только известные нам экзамены, так как речь в задании идёт об экзаменах. \n",
    "Второй вариант (если за экзамен считать набор 100 баллов из нескольких тестов) нам будет сложно использовать без подтверждения, так как возникнет много вопросов к подсчёту среднего балла (за какой именно экзамен или за какую совокупноcть). <br> Поэтому мы сделаем анализ на основе имеющихся у нас неполных данных, которые точно связаны с экзаменами."
   ]
  },
  {
   "cell_type": "markdown",
   "metadata": {},
   "source": [
    "Cмотрим, сколько максимум предметов сдавали студенты - максимум по 2:"
   ]
  },
  {
   "cell_type": "code",
   "execution_count": 6,
   "metadata": {},
   "outputs": [
    {
     "data": {
      "text/html": [
       "<div>\n",
       "<style scoped>\n",
       "    .dataframe tbody tr th:only-of-type {\n",
       "        vertical-align: middle;\n",
       "    }\n",
       "\n",
       "    .dataframe tbody tr th {\n",
       "        vertical-align: top;\n",
       "    }\n",
       "\n",
       "    .dataframe thead th {\n",
       "        text-align: right;\n",
       "    }\n",
       "</style>\n",
       "<table border=\"1\" class=\"dataframe\">\n",
       "  <thead>\n",
       "    <tr style=\"text-align: right;\">\n",
       "      <th></th>\n",
       "      <th>id_student</th>\n",
       "      <th>code_module</th>\n",
       "      <th>code_presentation</th>\n",
       "    </tr>\n",
       "  </thead>\n",
       "  <tbody>\n",
       "    <tr>\n",
       "      <th>72</th>\n",
       "      <td>80329</td>\n",
       "      <td>2</td>\n",
       "      <td>2</td>\n",
       "    </tr>\n",
       "    <tr>\n",
       "      <th>2667</th>\n",
       "      <td>605540</td>\n",
       "      <td>2</td>\n",
       "      <td>2</td>\n",
       "    </tr>\n",
       "    <tr>\n",
       "      <th>2872</th>\n",
       "      <td>616870</td>\n",
       "      <td>2</td>\n",
       "      <td>2</td>\n",
       "    </tr>\n",
       "    <tr>\n",
       "      <th>2869</th>\n",
       "      <td>616658</td>\n",
       "      <td>2</td>\n",
       "      <td>2</td>\n",
       "    </tr>\n",
       "    <tr>\n",
       "      <th>2861</th>\n",
       "      <td>615075</td>\n",
       "      <td>2</td>\n",
       "      <td>2</td>\n",
       "    </tr>\n",
       "    <tr>\n",
       "      <th>2856</th>\n",
       "      <td>614804</td>\n",
       "      <td>2</td>\n",
       "      <td>2</td>\n",
       "    </tr>\n",
       "    <tr>\n",
       "      <th>2851</th>\n",
       "      <td>614265</td>\n",
       "      <td>2</td>\n",
       "      <td>2</td>\n",
       "    </tr>\n",
       "    <tr>\n",
       "      <th>2843</th>\n",
       "      <td>613667</td>\n",
       "      <td>2</td>\n",
       "      <td>2</td>\n",
       "    </tr>\n",
       "    <tr>\n",
       "      <th>2839</th>\n",
       "      <td>613370</td>\n",
       "      <td>2</td>\n",
       "      <td>2</td>\n",
       "    </tr>\n",
       "    <tr>\n",
       "      <th>2812</th>\n",
       "      <td>611593</td>\n",
       "      <td>2</td>\n",
       "      <td>2</td>\n",
       "    </tr>\n",
       "  </tbody>\n",
       "</table>\n",
       "</div>"
      ],
      "text/plain": [
       "      id_student  code_module  code_presentation\n",
       "72         80329            2                  2\n",
       "2667      605540            2                  2\n",
       "2872      616870            2                  2\n",
       "2869      616658            2                  2\n",
       "2861      615075            2                  2\n",
       "2856      614804            2                  2\n",
       "2851      614265            2                  2\n",
       "2843      613667            2                  2\n",
       "2839      613370            2                  2\n",
       "2812      611593            2                  2"
      ]
     },
     "execution_count": 6,
     "metadata": {},
     "output_type": "execute_result"
    }
   ],
   "source": [
    "Exams.groupby(['id_student'], as_index = False).agg({'code_module' : 'count', 'code_presentation' : 'count'}) \\\n",
    ".query('code_module > 1').sort_values(by = 'code_module', ascending = False).head(10)"
   ]
  },
  {
   "cell_type": "markdown",
   "metadata": {},
   "source": [
    "Cмотрим, сколько максимум семестров сдавали студенты - тоже максимум по 2:"
   ]
  },
  {
   "cell_type": "code",
   "execution_count": 7,
   "metadata": {},
   "outputs": [
    {
     "data": {
      "text/html": [
       "<div>\n",
       "<style scoped>\n",
       "    .dataframe tbody tr th:only-of-type {\n",
       "        vertical-align: middle;\n",
       "    }\n",
       "\n",
       "    .dataframe tbody tr th {\n",
       "        vertical-align: top;\n",
       "    }\n",
       "\n",
       "    .dataframe thead th {\n",
       "        text-align: right;\n",
       "    }\n",
       "</style>\n",
       "<table border=\"1\" class=\"dataframe\">\n",
       "  <thead>\n",
       "    <tr style=\"text-align: right;\">\n",
       "      <th></th>\n",
       "      <th>id_student</th>\n",
       "      <th>code_module</th>\n",
       "      <th>code_presentation</th>\n",
       "    </tr>\n",
       "  </thead>\n",
       "  <tbody>\n",
       "    <tr>\n",
       "      <th>72</th>\n",
       "      <td>80329</td>\n",
       "      <td>2</td>\n",
       "      <td>2</td>\n",
       "    </tr>\n",
       "    <tr>\n",
       "      <th>2667</th>\n",
       "      <td>605540</td>\n",
       "      <td>2</td>\n",
       "      <td>2</td>\n",
       "    </tr>\n",
       "    <tr>\n",
       "      <th>2872</th>\n",
       "      <td>616870</td>\n",
       "      <td>2</td>\n",
       "      <td>2</td>\n",
       "    </tr>\n",
       "    <tr>\n",
       "      <th>2869</th>\n",
       "      <td>616658</td>\n",
       "      <td>2</td>\n",
       "      <td>2</td>\n",
       "    </tr>\n",
       "    <tr>\n",
       "      <th>2861</th>\n",
       "      <td>615075</td>\n",
       "      <td>2</td>\n",
       "      <td>2</td>\n",
       "    </tr>\n",
       "    <tr>\n",
       "      <th>2856</th>\n",
       "      <td>614804</td>\n",
       "      <td>2</td>\n",
       "      <td>2</td>\n",
       "    </tr>\n",
       "    <tr>\n",
       "      <th>2851</th>\n",
       "      <td>614265</td>\n",
       "      <td>2</td>\n",
       "      <td>2</td>\n",
       "    </tr>\n",
       "    <tr>\n",
       "      <th>2843</th>\n",
       "      <td>613667</td>\n",
       "      <td>2</td>\n",
       "      <td>2</td>\n",
       "    </tr>\n",
       "    <tr>\n",
       "      <th>2839</th>\n",
       "      <td>613370</td>\n",
       "      <td>2</td>\n",
       "      <td>2</td>\n",
       "    </tr>\n",
       "    <tr>\n",
       "      <th>2812</th>\n",
       "      <td>611593</td>\n",
       "      <td>2</td>\n",
       "      <td>2</td>\n",
       "    </tr>\n",
       "  </tbody>\n",
       "</table>\n",
       "</div>"
      ],
      "text/plain": [
       "      id_student  code_module  code_presentation\n",
       "72         80329            2                  2\n",
       "2667      605540            2                  2\n",
       "2872      616870            2                  2\n",
       "2869      616658            2                  2\n",
       "2861      615075            2                  2\n",
       "2856      614804            2                  2\n",
       "2851      614265            2                  2\n",
       "2843      613667            2                  2\n",
       "2839      613370            2                  2\n",
       "2812      611593            2                  2"
      ]
     },
     "execution_count": 7,
     "metadata": {},
     "output_type": "execute_result"
    }
   ],
   "source": [
    "Exams.groupby(['id_student'], as_index = False).agg({'code_module' : 'count', 'code_presentation' : 'count'}) \\\n",
    ".query('code_presentation > 1').sort_values(by = 'code_presentation', ascending = False).head(10)"
   ]
  },
  {
   "cell_type": "markdown",
   "metadata": {},
   "source": [
    "Смотрим,какие это были экзамены:\n",
    "322 студента сдавали и ССС, и DDD - это нормально, сдавали разные предметы в разных семестрах или в одном семестре, то есть точно это были разные курсы.\n",
    "4 студента сдавалти DDD по 2 раза - нужно выяснить подробности."
   ]
  },
  {
   "cell_type": "code",
   "execution_count": 8,
   "metadata": {},
   "outputs": [
    {
     "data": {
      "text/html": [
       "<div>\n",
       "<style scoped>\n",
       "    .dataframe tbody tr th:only-of-type {\n",
       "        vertical-align: middle;\n",
       "    }\n",
       "\n",
       "    .dataframe tbody tr th {\n",
       "        vertical-align: top;\n",
       "    }\n",
       "\n",
       "    .dataframe thead th {\n",
       "        text-align: right;\n",
       "    }\n",
       "</style>\n",
       "<table border=\"1\" class=\"dataframe\">\n",
       "  <thead>\n",
       "    <tr style=\"text-align: right;\">\n",
       "      <th></th>\n",
       "      <th>id_student</th>\n",
       "      <th>code_module</th>\n",
       "      <th>code_presentation</th>\n",
       "    </tr>\n",
       "  </thead>\n",
       "  <tbody>\n",
       "    <tr>\n",
       "      <th>1377</th>\n",
       "      <td>527323</td>\n",
       "      <td>DDDDDD</td>\n",
       "      <td>2</td>\n",
       "    </tr>\n",
       "    <tr>\n",
       "      <th>1490</th>\n",
       "      <td>540758</td>\n",
       "      <td>DDDDDD</td>\n",
       "      <td>2</td>\n",
       "    </tr>\n",
       "    <tr>\n",
       "      <th>2415</th>\n",
       "      <td>593903</td>\n",
       "      <td>DDDDDD</td>\n",
       "      <td>2</td>\n",
       "    </tr>\n",
       "    <tr>\n",
       "      <th>2661</th>\n",
       "      <td>605118</td>\n",
       "      <td>DDDDDD</td>\n",
       "      <td>2</td>\n",
       "    </tr>\n",
       "  </tbody>\n",
       "</table>\n",
       "</div>"
      ],
      "text/plain": [
       "      id_student code_module  code_presentation\n",
       "1377      527323      DDDDDD                  2\n",
       "1490      540758      DDDDDD                  2\n",
       "2415      593903      DDDDDD                  2\n",
       "2661      605118      DDDDDD                  2"
      ]
     },
     "execution_count": 8,
     "metadata": {},
     "output_type": "execute_result"
    }
   ],
   "source": [
    "Exams.groupby(['id_student'], as_index = False).agg({'code_module' : 'sum', 'code_presentation' : 'count'}) \\\n",
    ".query('code_module == \"DDDDDD\"')\n",
    "#.query('code_module == \"CCCDDD\"') - 322\n",
    "#.query('code_module == \"CCCCCC\"') - таких нет"
   ]
  },
  {
   "cell_type": "markdown",
   "metadata": {},
   "source": [
    "Студентов мало, можем быстро посмотреть все типы тестов и в каких семестрах они сдавались:"
   ]
  },
  {
   "cell_type": "code",
   "execution_count": 9,
   "metadata": {},
   "outputs": [
    {
     "data": {
      "text/html": [
       "<div>\n",
       "<style scoped>\n",
       "    .dataframe tbody tr th:only-of-type {\n",
       "        vertical-align: middle;\n",
       "    }\n",
       "\n",
       "    .dataframe tbody tr th {\n",
       "        vertical-align: top;\n",
       "    }\n",
       "\n",
       "    .dataframe thead th {\n",
       "        text-align: right;\n",
       "    }\n",
       "</style>\n",
       "<table border=\"1\" class=\"dataframe\">\n",
       "  <thead>\n",
       "    <tr style=\"text-align: right;\">\n",
       "      <th></th>\n",
       "      <th>id_student</th>\n",
       "      <th>code_presentation</th>\n",
       "      <th>assessment_type</th>\n",
       "      <th>weight</th>\n",
       "    </tr>\n",
       "  </thead>\n",
       "  <tbody>\n",
       "    <tr>\n",
       "      <th>0</th>\n",
       "      <td>527323</td>\n",
       "      <td>2013B</td>\n",
       "      <td>TMATMATMATMATMATMAExam</td>\n",
       "      <td>175.0</td>\n",
       "    </tr>\n",
       "    <tr>\n",
       "      <th>1</th>\n",
       "      <td>527323</td>\n",
       "      <td>2014B</td>\n",
       "      <td>TMATMATMATMATMATMAExam</td>\n",
       "      <td>200.0</td>\n",
       "    </tr>\n",
       "    <tr>\n",
       "      <th>2</th>\n",
       "      <td>540758</td>\n",
       "      <td>2013B</td>\n",
       "      <td>TMATMATMATMATMATMAExamCMACMACMACMACMACMACMA</td>\n",
       "      <td>200.0</td>\n",
       "    </tr>\n",
       "    <tr>\n",
       "      <th>3</th>\n",
       "      <td>540758</td>\n",
       "      <td>2014B</td>\n",
       "      <td>TMATMATMATMATMATMAExam</td>\n",
       "      <td>200.0</td>\n",
       "    </tr>\n",
       "    <tr>\n",
       "      <th>4</th>\n",
       "      <td>593903</td>\n",
       "      <td>2013J</td>\n",
       "      <td>TMATMATMATMATMATMAExam</td>\n",
       "      <td>200.0</td>\n",
       "    </tr>\n",
       "    <tr>\n",
       "      <th>5</th>\n",
       "      <td>593903</td>\n",
       "      <td>2014J</td>\n",
       "      <td>TMATMATMATMATMATMAExam</td>\n",
       "      <td>200.0</td>\n",
       "    </tr>\n",
       "    <tr>\n",
       "      <th>6</th>\n",
       "      <td>605118</td>\n",
       "      <td>2013J</td>\n",
       "      <td>TMATMATMATMATMAExam</td>\n",
       "      <td>180.0</td>\n",
       "    </tr>\n",
       "    <tr>\n",
       "      <th>7</th>\n",
       "      <td>605118</td>\n",
       "      <td>2014J</td>\n",
       "      <td>TMATMATMATMATMAExam</td>\n",
       "      <td>190.0</td>\n",
       "    </tr>\n",
       "  </tbody>\n",
       "</table>\n",
       "</div>"
      ],
      "text/plain": [
       "   id_student code_presentation                              assessment_type  \\\n",
       "0      527323             2013B                       TMATMATMATMATMATMAExam   \n",
       "1      527323             2014B                       TMATMATMATMATMATMAExam   \n",
       "2      540758             2013B  TMATMATMATMATMATMAExamCMACMACMACMACMACMACMA   \n",
       "3      540758             2014B                       TMATMATMATMATMATMAExam   \n",
       "4      593903             2013J                       TMATMATMATMATMATMAExam   \n",
       "5      593903             2014J                       TMATMATMATMATMATMAExam   \n",
       "6      605118             2013J                          TMATMATMATMATMAExam   \n",
       "7      605118             2014J                          TMATMATMATMATMAExam   \n",
       "\n",
       "   weight  \n",
       "0   175.0  \n",
       "1   200.0  \n",
       "2   200.0  \n",
       "3   200.0  \n",
       "4   200.0  \n",
       "5   200.0  \n",
       "6   180.0  \n",
       "7   190.0  "
      ]
     },
     "execution_count": 9,
     "metadata": {},
     "output_type": "execute_result"
    }
   ],
   "source": [
    "Total_assessments.query('id_student == [527323, 540758, 593903, 605118]') \\\n",
    ".groupby(['id_student', 'code_presentation'], as_index = False).agg({'assessment_type':'sum', 'weight' : 'sum'})"
   ]
  },
  {
   "cell_type": "markdown",
   "metadata": {},
   "source": [
    "- Каждый семестр у всех кроме одного заканчивался экзаменом после ряда тестов TMA, что нормально. \n",
    "- Предмет изучали в один и тот же определённый семестр года, возможно они пересдачники и не сдав один раз, пересдавали через год?"
   ]
  },
  {
   "cell_type": "code",
   "execution_count": 10,
   "metadata": {},
   "outputs": [
    {
     "data": {
      "text/html": [
       "<div>\n",
       "<style scoped>\n",
       "    .dataframe tbody tr th:only-of-type {\n",
       "        vertical-align: middle;\n",
       "    }\n",
       "\n",
       "    .dataframe tbody tr th {\n",
       "        vertical-align: top;\n",
       "    }\n",
       "\n",
       "    .dataframe thead th {\n",
       "        text-align: right;\n",
       "    }\n",
       "</style>\n",
       "<table border=\"1\" class=\"dataframe\">\n",
       "  <thead>\n",
       "    <tr style=\"text-align: right;\">\n",
       "      <th></th>\n",
       "      <th>id_student</th>\n",
       "      <th>code_presentation</th>\n",
       "      <th>code_module</th>\n",
       "      <th>score</th>\n",
       "    </tr>\n",
       "  </thead>\n",
       "  <tbody>\n",
       "    <tr>\n",
       "      <th>0</th>\n",
       "      <td>527323</td>\n",
       "      <td>2013B</td>\n",
       "      <td>DDD</td>\n",
       "      <td>24.0</td>\n",
       "    </tr>\n",
       "    <tr>\n",
       "      <th>1</th>\n",
       "      <td>527323</td>\n",
       "      <td>2014B</td>\n",
       "      <td>DDD</td>\n",
       "      <td>18.0</td>\n",
       "    </tr>\n",
       "    <tr>\n",
       "      <th>2</th>\n",
       "      <td>540758</td>\n",
       "      <td>2013B</td>\n",
       "      <td>DDD</td>\n",
       "      <td>40.0</td>\n",
       "    </tr>\n",
       "    <tr>\n",
       "      <th>3</th>\n",
       "      <td>540758</td>\n",
       "      <td>2014B</td>\n",
       "      <td>DDD</td>\n",
       "      <td>60.0</td>\n",
       "    </tr>\n",
       "    <tr>\n",
       "      <th>4</th>\n",
       "      <td>593903</td>\n",
       "      <td>2013J</td>\n",
       "      <td>DDD</td>\n",
       "      <td>49.0</td>\n",
       "    </tr>\n",
       "    <tr>\n",
       "      <th>5</th>\n",
       "      <td>593903</td>\n",
       "      <td>2014J</td>\n",
       "      <td>DDD</td>\n",
       "      <td>44.0</td>\n",
       "    </tr>\n",
       "    <tr>\n",
       "      <th>6</th>\n",
       "      <td>605118</td>\n",
       "      <td>2013J</td>\n",
       "      <td>DDD</td>\n",
       "      <td>42.0</td>\n",
       "    </tr>\n",
       "    <tr>\n",
       "      <th>7</th>\n",
       "      <td>605118</td>\n",
       "      <td>2014J</td>\n",
       "      <td>DDD</td>\n",
       "      <td>64.0</td>\n",
       "    </tr>\n",
       "  </tbody>\n",
       "</table>\n",
       "</div>"
      ],
      "text/plain": [
       "   id_student code_presentation code_module  score\n",
       "0      527323             2013B         DDD   24.0\n",
       "1      527323             2014B         DDD   18.0\n",
       "2      540758             2013B         DDD   40.0\n",
       "3      540758             2014B         DDD   60.0\n",
       "4      593903             2013J         DDD   49.0\n",
       "5      593903             2014J         DDD   44.0\n",
       "6      605118             2013J         DDD   42.0\n",
       "7      605118             2014J         DDD   64.0"
      ]
     },
     "execution_count": 10,
     "metadata": {},
     "output_type": "execute_result"
    }
   ],
   "source": [
    "Total_assessments.query('id_student == [527323, 540758, 593903, 605118]') \\\n",
    ".query('assessment_type == \"Exam\"') \\\n",
    ".groupby(['id_student', 'code_presentation', 'code_module'], as_index = False).agg({'score':'sum'})"
   ]
  },
  {
   "cell_type": "markdown",
   "metadata": {},
   "source": [
    "Нет, это не пересдачники, трое из четырёх замечательно сдавали экзамены и завершали курс каждый год, у одного ни разу не вышло. Значит они скорее всего решили повторить обучение через год. А каждый 'подход' заканчивался экзаменом в конце семестра."
   ]
  },
  {
   "cell_type": "markdown",
   "metadata": {},
   "source": [
    "- Исходя из большинства наблюдений, будем считать в данном случае, что <b>курс - это один семестр изучения одного предмета</b>.\n",
    "- Курс идёт в определённый семестр года и непременно заканчивается экзаменом - итогом курса.\n",
    "- Hаботать предстоит с результатами по 6 экзаменам (6 семестров) в двух предметах. Только эта выборка нам доступна и обладает всеми данными по нашей задаче."
   ]
  },
  {
   "cell_type": "markdown",
   "metadata": {},
   "source": [
    "#### Для каждого студента, который дошёл до экзаменов, находим:\n",
    "- recency - среднее время сдачи одного экзамена, \n",
    "- frequency - завершаемость курсов, \n",
    "- monetary - среднее количество баллов."
   ]
  },
  {
   "cell_type": "code",
   "execution_count": 11,
   "metadata": {},
   "outputs": [
    {
     "data": {
      "text/plain": [
       "244    777\n",
       "230    721\n",
       "243    676\n",
       "242    650\n",
       "234    522\n",
       "237    466\n",
       "236    240\n",
       "241    230\n",
       "245    222\n",
       "229    179\n",
       "231    152\n",
       "248     50\n",
       "233     25\n",
       "250     16\n",
       "238      7\n",
       "249      6\n",
       "251      6\n",
       "252      5\n",
       "259      2\n",
       "256      2\n",
       "255      1\n",
       "266      1\n",
       "285      1\n",
       "235      1\n",
       "279      1\n",
       "Name: date_submitted, dtype: int64"
      ]
     },
     "execution_count": 11,
     "metadata": {},
     "output_type": "execute_result"
    }
   ],
   "source": [
    "Total_assessments.query('assessment_type == \"Exam\"').fillna('empty') \\\n",
    ".date_submitted.value_counts()\n",
    "#.score.value_counts()\n",
    "#проверим, нет ли в датах и score пустых значений - нет."
   ]
  },
  {
   "cell_type": "markdown",
   "metadata": {},
   "source": [
    "Cоздаём датафрейм с двумя метриками"
   ]
  },
  {
   "cell_type": "code",
   "execution_count": 12,
   "metadata": {},
   "outputs": [
    {
     "data": {
      "text/html": [
       "<div>\n",
       "<style scoped>\n",
       "    .dataframe tbody tr th:only-of-type {\n",
       "        vertical-align: middle;\n",
       "    }\n",
       "\n",
       "    .dataframe tbody tr th {\n",
       "        vertical-align: top;\n",
       "    }\n",
       "\n",
       "    .dataframe thead th {\n",
       "        text-align: right;\n",
       "    }\n",
       "</style>\n",
       "<table border=\"1\" class=\"dataframe\">\n",
       "  <thead>\n",
       "    <tr style=\"text-align: right;\">\n",
       "      <th></th>\n",
       "      <th>id_student</th>\n",
       "      <th>date_submitted</th>\n",
       "      <th>score</th>\n",
       "    </tr>\n",
       "  </thead>\n",
       "  <tbody>\n",
       "    <tr>\n",
       "      <th>0</th>\n",
       "      <td>23698</td>\n",
       "      <td>243.0</td>\n",
       "      <td>80.0</td>\n",
       "    </tr>\n",
       "    <tr>\n",
       "      <th>1</th>\n",
       "      <td>24213</td>\n",
       "      <td>236.0</td>\n",
       "      <td>58.0</td>\n",
       "    </tr>\n",
       "    <tr>\n",
       "      <th>2</th>\n",
       "      <td>27116</td>\n",
       "      <td>243.0</td>\n",
       "      <td>96.0</td>\n",
       "    </tr>\n",
       "    <tr>\n",
       "      <th>3</th>\n",
       "      <td>28046</td>\n",
       "      <td>237.0</td>\n",
       "      <td>40.0</td>\n",
       "    </tr>\n",
       "    <tr>\n",
       "      <th>4</th>\n",
       "      <td>28787</td>\n",
       "      <td>243.0</td>\n",
       "      <td>44.0</td>\n",
       "    </tr>\n",
       "  </tbody>\n",
       "</table>\n",
       "</div>"
      ],
      "text/plain": [
       "   id_student  date_submitted  score\n",
       "0       23698           243.0   80.0\n",
       "1       24213           236.0   58.0\n",
       "2       27116           243.0   96.0\n",
       "3       28046           237.0   40.0\n",
       "4       28787           243.0   44.0"
      ]
     },
     "execution_count": 12,
     "metadata": {},
     "output_type": "execute_result"
    }
   ],
   "source": [
    "\n",
    "RFM_df = Total_assessments.query('assessment_type == \"Exam\"') \\\n",
    ".groupby('id_student', as_index = False).agg({'date_submitted':'mean', 'score' : 'mean'})\n",
    "RFM_df.head()"
   ]
  },
  {
   "cell_type": "markdown",
   "metadata": {},
   "source": [
    "Cоздаём колонку с третьей метрикой - frequency"
   ]
  },
  {
   "cell_type": "code",
   "execution_count": 13,
   "metadata": {},
   "outputs": [
    {
     "data": {
      "text/plain": [
       "1.0    3802\n",
       "0.0     536\n",
       "2.0     295\n",
       "Name: done, dtype: int64"
      ]
     },
     "execution_count": 13,
     "metadata": {},
     "output_type": "execute_result"
    }
   ],
   "source": [
    "# Сначала создаём датафрейм, в котором сделаем группировку по студентам и посчитаем все даты сдач каждого - это будут попытки.\n",
    "# Далее заджойним кусок основного датафрейма с успешными сдачами экзаменов (outer join). Теперь у нас есть попытки и успешные \n",
    "#сдачи для каждого из студентов, можем посчитать завершаемость. \n",
    "frequency_DF = \\\n",
    "Total_assessments.query('assessment_type == \"Exam\"') \\\n",
    ".groupby(['id_student'], as_index = False).agg({'date_submitted' : 'count'}) \\\n",
    ".rename(columns = {'date_submitted' : 'tries'}) \\\n",
    ".merge(Total_assessments.query('assessment_type == \"Exam\"') \\\n",
    ".query('score >= 40.0') \\\n",
    ".groupby(['id_student'], as_index = False).agg({'date_submitted' : 'count'}) \\\n",
    ".rename(columns = {'date_submitted' : 'done'}), on = 'id_student', how = 'outer')\n",
    "\n",
    "#в колонке done будут пустые значения напротив тех, кто не сдал ничего. Поэтому чтобы корректно посчитать завершаемость\n",
    "#заполним их нулями\n",
    "frequency_DF.done = frequency_DF.done.fillna(0)\n",
    "#проверяем\n",
    "frequency_DF.done.value_counts()"
   ]
  },
  {
   "cell_type": "markdown",
   "metadata": {},
   "source": [
    "Cоздаём колонку завершаемости - делим успешные сдачи на попытки:"
   ]
  },
  {
   "cell_type": "code",
   "execution_count": 14,
   "metadata": {},
   "outputs": [],
   "source": [
    "frequency_DF['frequency'] = frequency_DF['done'] / frequency_DF['tries']"
   ]
  },
  {
   "cell_type": "markdown",
   "metadata": {},
   "source": [
    "Cмотрим на возможные знаначения метрики. <br> \n",
    "Есть те, кто сдал всё, за что брался, есть немного людей, не осиливших второй курс (напомню, что максимум у нас студенты сдавали 2 курса). А также есть неуспешные студенты, не справившиеся с экзаменами."
   ]
  },
  {
   "cell_type": "code",
   "execution_count": 15,
   "metadata": {},
   "outputs": [
    {
     "data": {
      "text/plain": [
       "1.0    4069\n",
       "0.0     536\n",
       "0.5      28\n",
       "Name: frequency, dtype: int64"
      ]
     },
     "execution_count": 15,
     "metadata": {},
     "output_type": "execute_result"
    }
   ],
   "source": [
    "frequency_DF.frequency.value_counts()"
   ]
  },
  {
   "cell_type": "code",
   "execution_count": 16,
   "metadata": {},
   "outputs": [],
   "source": [
    "frequency_DF = frequency_DF.drop(columns=['tries', 'done']) \n",
    "#удаляем лишние колонки"
   ]
  },
  {
   "cell_type": "code",
   "execution_count": 17,
   "metadata": {},
   "outputs": [],
   "source": [
    "RFM_df = RFM_df.merge(frequency_DF, on = 'id_student')\n",
    "#добавляем третью метрику в датафрейм RFM"
   ]
  },
  {
   "cell_type": "code",
   "execution_count": 18,
   "metadata": {},
   "outputs": [],
   "source": [
    "RFM_df = RFM_df.rename(columns = {'score' : 'monetary', 'date_submitted' : 'recency'})\n",
    "#переименовываем колонки в соответствии с метриками."
   ]
  },
  {
   "cell_type": "code",
   "execution_count": 19,
   "metadata": {},
   "outputs": [
    {
     "data": {
      "text/html": [
       "<div>\n",
       "<style scoped>\n",
       "    .dataframe tbody tr th:only-of-type {\n",
       "        vertical-align: middle;\n",
       "    }\n",
       "\n",
       "    .dataframe tbody tr th {\n",
       "        vertical-align: top;\n",
       "    }\n",
       "\n",
       "    .dataframe thead th {\n",
       "        text-align: right;\n",
       "    }\n",
       "</style>\n",
       "<table border=\"1\" class=\"dataframe\">\n",
       "  <thead>\n",
       "    <tr style=\"text-align: right;\">\n",
       "      <th></th>\n",
       "      <th>id_student</th>\n",
       "      <th>recency</th>\n",
       "      <th>monetary</th>\n",
       "      <th>frequency</th>\n",
       "    </tr>\n",
       "  </thead>\n",
       "  <tbody>\n",
       "    <tr>\n",
       "      <th>0</th>\n",
       "      <td>23698</td>\n",
       "      <td>243.0</td>\n",
       "      <td>80.0</td>\n",
       "      <td>1.0</td>\n",
       "    </tr>\n",
       "    <tr>\n",
       "      <th>1</th>\n",
       "      <td>24213</td>\n",
       "      <td>236.0</td>\n",
       "      <td>58.0</td>\n",
       "      <td>1.0</td>\n",
       "    </tr>\n",
       "    <tr>\n",
       "      <th>2</th>\n",
       "      <td>27116</td>\n",
       "      <td>243.0</td>\n",
       "      <td>96.0</td>\n",
       "      <td>1.0</td>\n",
       "    </tr>\n",
       "    <tr>\n",
       "      <th>3</th>\n",
       "      <td>28046</td>\n",
       "      <td>237.0</td>\n",
       "      <td>40.0</td>\n",
       "      <td>1.0</td>\n",
       "    </tr>\n",
       "    <tr>\n",
       "      <th>4</th>\n",
       "      <td>28787</td>\n",
       "      <td>243.0</td>\n",
       "      <td>44.0</td>\n",
       "      <td>1.0</td>\n",
       "    </tr>\n",
       "  </tbody>\n",
       "</table>\n",
       "</div>"
      ],
      "text/plain": [
       "   id_student  recency  monetary  frequency\n",
       "0       23698    243.0      80.0        1.0\n",
       "1       24213    236.0      58.0        1.0\n",
       "2       27116    243.0      96.0        1.0\n",
       "3       28046    237.0      40.0        1.0\n",
       "4       28787    243.0      44.0        1.0"
      ]
     },
     "execution_count": 19,
     "metadata": {},
     "output_type": "execute_result"
    }
   ],
   "source": [
    "RFM_df.head()\n",
    "#.shape\n",
    "#получаем датафрейм с 4633 строками, столько у нас студентов."
   ]
  },
  {
   "cell_type": "markdown",
   "metadata": {},
   "source": [
    "Рассчитаем квантили (как в предложенной методике RFM анализа) для деления каждой метрики на 5 сегментов. <br>\n",
    "\n",
    "Видим, что завершаемость (frequency) у нас делить по квантилям на 5 частей будет бессмысленно, так как ранее мы выяснили, что там только 3 значения соответственно, рангов может быть только 3 - чем больше значение, тем выше ранг."
   ]
  },
  {
   "cell_type": "code",
   "execution_count": 20,
   "metadata": {},
   "outputs": [
    {
     "data": {
      "text/plain": [
       "{'recency': {0.2: 231.0, 0.4: 237.0, 0.6: 242.0, 0.8: 243.5},\n",
       " 'monetary': {0.2: 46.200000000000045, 0.4: 60.0, 0.6: 72.0, 0.8: 84.0},\n",
       " 'frequency': {0.2: 1.0, 0.4: 1.0, 0.6: 1.0, 0.8: 1.0}}"
      ]
     },
     "execution_count": 20,
     "metadata": {},
     "output_type": "execute_result"
    }
   ],
   "source": [
    "quintiles = RFM_df[['recency','monetary', 'frequency', ]].quantile([.2, .4, .6, .8]).to_dict()\n",
    "quintiles"
   ]
  },
  {
   "cell_type": "markdown",
   "metadata": {},
   "source": [
    "#### Посмотрим на распределение средних сроков (recency), визуализируем данные."
   ]
  },
  {
   "cell_type": "code",
   "execution_count": 21,
   "metadata": {},
   "outputs": [
    {
     "data": {
      "text/plain": [
       "<matplotlib.axes._subplots.AxesSubplot at 0x7fd298677470>"
      ]
     },
     "execution_count": 21,
     "metadata": {},
     "output_type": "execute_result"
    },
    {
     "data": {
      "image/png": "[encoded data removed]",
      "text/plain": [
       "<Figure size 432x288 with 1 Axes>"
      ]
     },
     "metadata": {
      "needs_background": "light"
     },
     "output_type": "display_data"
    }
   ],
   "source": [
    "sns.histplot(RFM_df.recency)"
   ]
  },
  {
   "cell_type": "markdown",
   "metadata": {},
   "source": [
    "Видим, что оно очень неравномерно и данные сильно варьируются, видны тренды.\n",
    "В этой метрике за основу берём разделение по процентилям. Чем меньше срок, тем лучше - больше ранг дадим самым меньшим срокам."
   ]
  },
  {
   "cell_type": "markdown",
   "metadata": {},
   "source": [
    "#### Посмотрим на распределение среднего балла за сдачу (monetary), визуализируем данные."
   ]
  },
  {
   "cell_type": "code",
   "execution_count": 22,
   "metadata": {},
   "outputs": [
    {
     "data": {
      "text/plain": [
       "<matplotlib.axes._subplots.AxesSubplot at 0x7fd23e0f0f28>"
      ]
     },
     "execution_count": 22,
     "metadata": {},
     "output_type": "execute_result"
    },
    {
     "data": {
      "image/png": "[encoded data removed]",
      "text/plain": [
       "<Figure size 432x288 with 1 Axes>"
      ]
     },
     "metadata": {
      "needs_background": "light"
     },
     "output_type": "display_data"
    }
   ],
   "source": [
    "sns.histplot(RFM_df.monetary)"
   ]
  },
  {
   "cell_type": "markdown",
   "metadata": {},
   "source": [
    "Распределение более равномерное, а баллы у студентов довольно разнообразные.\n",
    "<br> <br>\n",
    "В этой метрике точно нужно отделить сегмент до 40 баллов - не сдавших. Также распределение показывает, что группу не \n",
    "сдавших можно поделить на совсем сложных ребят и имеющих некоторый потенциал (достаточно много тех, кто остался в районе 30-39 баллов). Успешные ученики легко делятся на 3 ранга по курглым баллам (40-59, 60-79 (самый крупный сегмент), 80-100). Чем больше баллов, тем выше ранг."
   ]
  },
  {
   "cell_type": "code",
   "execution_count": 23,
   "metadata": {},
   "outputs": [],
   "source": [
    "#Присваиваем ранги recency по кавантилям.\n",
    "\n",
    "def r_score(x):\n",
    "    if x <= quintiles['recency'][.2]:\n",
    "        return 5\n",
    "    elif x <= quintiles['recency'][.4]:\n",
    "        return 4\n",
    "    elif x <= quintiles['recency'][.6]:\n",
    "        return 3\n",
    "    elif x <= quintiles['recency'][.8]:\n",
    "        return 2\n",
    "    else:\n",
    "        return 1"
   ]
  },
  {
   "cell_type": "code",
   "execution_count": 24,
   "metadata": {},
   "outputs": [],
   "source": [
    "#создаём колонку для ранга recency\n",
    "RFM_df['R'] = RFM_df['recency'].apply(lambda x: r_score(x))"
   ]
  },
  {
   "cell_type": "code",
   "execution_count": 25,
   "metadata": {},
   "outputs": [],
   "source": [
    "#Присваиваем ранги frequency по трём возможным значениям переменной (беррём за основу 5-бальную шкалу но без промежуточных\n",
    "#значений).\n",
    "\n",
    "def f_score(x):\n",
    "    if x == 1.0:\n",
    "        return 5\n",
    "    elif x == 0.5:\n",
    "        return 3\n",
    "    else:\n",
    "        return 1"
   ]
  },
  {
   "cell_type": "code",
   "execution_count": 26,
   "metadata": {},
   "outputs": [],
   "source": [
    "#создаём колонку для ранга frequency\n",
    "RFM_df['F'] = RFM_df['frequency'].apply(lambda x: f_score(x))"
   ]
  },
  {
   "cell_type": "code",
   "execution_count": 27,
   "metadata": {},
   "outputs": [],
   "source": [
    "#Присваиваем ранги monetary по 5-бальной шкале с поправкой на то, что неуд это два возможных варианта - совсем лодыри и\n",
    "#имеющие надежду (выяснили наличие таких по визуализации распределения)\n",
    "\n",
    "def m_score(x):\n",
    "    if x >= 0 and x < 30:\n",
    "        return 1\n",
    "    elif x >= 30 and x < 40:\n",
    "        return 2\n",
    "    elif  x >= 40 and x < 60:\n",
    "        return 3\n",
    "    elif x >= 60 and x < 80:\n",
    "        return 4\n",
    "    else:\n",
    "        return 5"
   ]
  },
  {
   "cell_type": "code",
   "execution_count": 28,
   "metadata": {},
   "outputs": [
    {
     "data": {
      "text/html": [
       "<div>\n",
       "<style scoped>\n",
       "    .dataframe tbody tr th:only-of-type {\n",
       "        vertical-align: middle;\n",
       "    }\n",
       "\n",
       "    .dataframe tbody tr th {\n",
       "        vertical-align: top;\n",
       "    }\n",
       "\n",
       "    .dataframe thead th {\n",
       "        text-align: right;\n",
       "    }\n",
       "</style>\n",
       "<table border=\"1\" class=\"dataframe\">\n",
       "  <thead>\n",
       "    <tr style=\"text-align: right;\">\n",
       "      <th></th>\n",
       "      <th>id_student</th>\n",
       "      <th>recency</th>\n",
       "      <th>monetary</th>\n",
       "      <th>frequency</th>\n",
       "      <th>R</th>\n",
       "      <th>F</th>\n",
       "      <th>M</th>\n",
       "    </tr>\n",
       "  </thead>\n",
       "  <tbody>\n",
       "    <tr>\n",
       "      <th>0</th>\n",
       "      <td>23698</td>\n",
       "      <td>243.0</td>\n",
       "      <td>80.0</td>\n",
       "      <td>1.0</td>\n",
       "      <td>2</td>\n",
       "      <td>5</td>\n",
       "      <td>5</td>\n",
       "    </tr>\n",
       "    <tr>\n",
       "      <th>1</th>\n",
       "      <td>24213</td>\n",
       "      <td>236.0</td>\n",
       "      <td>58.0</td>\n",
       "      <td>1.0</td>\n",
       "      <td>4</td>\n",
       "      <td>5</td>\n",
       "      <td>3</td>\n",
       "    </tr>\n",
       "    <tr>\n",
       "      <th>2</th>\n",
       "      <td>27116</td>\n",
       "      <td>243.0</td>\n",
       "      <td>96.0</td>\n",
       "      <td>1.0</td>\n",
       "      <td>2</td>\n",
       "      <td>5</td>\n",
       "      <td>5</td>\n",
       "    </tr>\n",
       "    <tr>\n",
       "      <th>3</th>\n",
       "      <td>28046</td>\n",
       "      <td>237.0</td>\n",
       "      <td>40.0</td>\n",
       "      <td>1.0</td>\n",
       "      <td>4</td>\n",
       "      <td>5</td>\n",
       "      <td>3</td>\n",
       "    </tr>\n",
       "    <tr>\n",
       "      <th>4</th>\n",
       "      <td>28787</td>\n",
       "      <td>243.0</td>\n",
       "      <td>44.0</td>\n",
       "      <td>1.0</td>\n",
       "      <td>2</td>\n",
       "      <td>5</td>\n",
       "      <td>3</td>\n",
       "    </tr>\n",
       "  </tbody>\n",
       "</table>\n",
       "</div>"
      ],
      "text/plain": [
       "   id_student  recency  monetary  frequency  R  F  M\n",
       "0       23698    243.0      80.0        1.0  2  5  5\n",
       "1       24213    236.0      58.0        1.0  4  5  3\n",
       "2       27116    243.0      96.0        1.0  2  5  5\n",
       "3       28046    237.0      40.0        1.0  4  5  3\n",
       "4       28787    243.0      44.0        1.0  2  5  3"
      ]
     },
     "execution_count": 28,
     "metadata": {},
     "output_type": "execute_result"
    }
   ],
   "source": [
    "#создаём колонку для ранга monetary\n",
    "RFM_df['M'] = RFM_df['monetary'].apply(lambda x: m_score(x))\n",
    "RFM_df.head()"
   ]
  },
  {
   "cell_type": "code",
   "execution_count": 29,
   "metadata": {},
   "outputs": [
    {
     "data": {
      "text/html": [
       "<div>\n",
       "<style scoped>\n",
       "    .dataframe tbody tr th:only-of-type {\n",
       "        vertical-align: middle;\n",
       "    }\n",
       "\n",
       "    .dataframe tbody tr th {\n",
       "        vertical-align: top;\n",
       "    }\n",
       "\n",
       "    .dataframe thead th {\n",
       "        text-align: right;\n",
       "    }\n",
       "</style>\n",
       "<table border=\"1\" class=\"dataframe\">\n",
       "  <thead>\n",
       "    <tr style=\"text-align: right;\">\n",
       "      <th></th>\n",
       "      <th>id_student</th>\n",
       "      <th>recency</th>\n",
       "      <th>monetary</th>\n",
       "      <th>frequency</th>\n",
       "      <th>R</th>\n",
       "      <th>F</th>\n",
       "      <th>M</th>\n",
       "      <th>RFM_Score</th>\n",
       "    </tr>\n",
       "  </thead>\n",
       "  <tbody>\n",
       "    <tr>\n",
       "      <th>0</th>\n",
       "      <td>23698</td>\n",
       "      <td>243.0</td>\n",
       "      <td>80.0</td>\n",
       "      <td>1.0</td>\n",
       "      <td>2</td>\n",
       "      <td>5</td>\n",
       "      <td>5</td>\n",
       "      <td>255</td>\n",
       "    </tr>\n",
       "    <tr>\n",
       "      <th>1</th>\n",
       "      <td>24213</td>\n",
       "      <td>236.0</td>\n",
       "      <td>58.0</td>\n",
       "      <td>1.0</td>\n",
       "      <td>4</td>\n",
       "      <td>5</td>\n",
       "      <td>3</td>\n",
       "      <td>453</td>\n",
       "    </tr>\n",
       "    <tr>\n",
       "      <th>2</th>\n",
       "      <td>27116</td>\n",
       "      <td>243.0</td>\n",
       "      <td>96.0</td>\n",
       "      <td>1.0</td>\n",
       "      <td>2</td>\n",
       "      <td>5</td>\n",
       "      <td>5</td>\n",
       "      <td>255</td>\n",
       "    </tr>\n",
       "    <tr>\n",
       "      <th>3</th>\n",
       "      <td>28046</td>\n",
       "      <td>237.0</td>\n",
       "      <td>40.0</td>\n",
       "      <td>1.0</td>\n",
       "      <td>4</td>\n",
       "      <td>5</td>\n",
       "      <td>3</td>\n",
       "      <td>453</td>\n",
       "    </tr>\n",
       "    <tr>\n",
       "      <th>4</th>\n",
       "      <td>28787</td>\n",
       "      <td>243.0</td>\n",
       "      <td>44.0</td>\n",
       "      <td>1.0</td>\n",
       "      <td>2</td>\n",
       "      <td>5</td>\n",
       "      <td>3</td>\n",
       "      <td>253</td>\n",
       "    </tr>\n",
       "  </tbody>\n",
       "</table>\n",
       "</div>"
      ],
      "text/plain": [
       "   id_student  recency  monetary  frequency  R  F  M RFM_Score\n",
       "0       23698    243.0      80.0        1.0  2  5  5       255\n",
       "1       24213    236.0      58.0        1.0  4  5  3       453\n",
       "2       27116    243.0      96.0        1.0  2  5  5       255\n",
       "3       28046    237.0      40.0        1.0  4  5  3       453\n",
       "4       28787    243.0      44.0        1.0  2  5  3       253"
      ]
     },
     "execution_count": 29,
     "metadata": {},
     "output_type": "execute_result"
    }
   ],
   "source": [
    "#Объединяем значения RFM в одну колонку для отнесения студента к тому или иному сегменту.\n",
    "\n",
    "RFM_df['RFM_Score'] = RFM_df['R'].map(str) + RFM_df['F'].map(str) + RFM_df['M'].map(str)\n",
    "RFM_df.head()"
   ]
  },
  {
   "cell_type": "markdown",
   "metadata": {},
   "source": [
    "#### Посмотрим на характер получившихся групп студентов, чтобы их правильно описать."
   ]
  },
  {
   "cell_type": "code",
   "execution_count": 30,
   "metadata": {},
   "outputs": [
    {
     "data": {
      "text/html": [
       "<div>\n",
       "<style scoped>\n",
       "    .dataframe tbody tr th:only-of-type {\n",
       "        vertical-align: middle;\n",
       "    }\n",
       "\n",
       "    .dataframe tbody tr th {\n",
       "        vertical-align: top;\n",
       "    }\n",
       "\n",
       "    .dataframe thead th {\n",
       "        text-align: right;\n",
       "    }\n",
       "</style>\n",
       "<table border=\"1\" class=\"dataframe\">\n",
       "  <thead>\n",
       "    <tr style=\"text-align: right;\">\n",
       "      <th></th>\n",
       "      <th>RFM_Score</th>\n",
       "      <th>id_student</th>\n",
       "    </tr>\n",
       "  </thead>\n",
       "  <tbody>\n",
       "    <tr>\n",
       "      <th>24</th>\n",
       "      <td>454</td>\n",
       "      <td>418</td>\n",
       "    </tr>\n",
       "    <tr>\n",
       "      <th>4</th>\n",
       "      <td>155</td>\n",
       "      <td>335</td>\n",
       "    </tr>\n",
       "    <tr>\n",
       "      <th>17</th>\n",
       "      <td>354</td>\n",
       "      <td>328</td>\n",
       "    </tr>\n",
       "    <tr>\n",
       "      <th>25</th>\n",
       "      <td>455</td>\n",
       "      <td>319</td>\n",
       "    </tr>\n",
       "    <tr>\n",
       "      <th>30</th>\n",
       "      <td>554</td>\n",
       "      <td>299</td>\n",
       "    </tr>\n",
       "    <tr>\n",
       "      <th>29</th>\n",
       "      <td>553</td>\n",
       "      <td>297</td>\n",
       "    </tr>\n",
       "    <tr>\n",
       "      <th>23</th>\n",
       "      <td>453</td>\n",
       "      <td>286</td>\n",
       "    </tr>\n",
       "    <tr>\n",
       "      <th>18</th>\n",
       "      <td>355</td>\n",
       "      <td>243</td>\n",
       "    </tr>\n",
       "    <tr>\n",
       "      <th>16</th>\n",
       "      <td>353</td>\n",
       "      <td>240</td>\n",
       "    </tr>\n",
       "    <tr>\n",
       "      <th>3</th>\n",
       "      <td>154</td>\n",
       "      <td>238</td>\n",
       "    </tr>\n",
       "    <tr>\n",
       "      <th>10</th>\n",
       "      <td>254</td>\n",
       "      <td>230</td>\n",
       "    </tr>\n",
       "    <tr>\n",
       "      <th>2</th>\n",
       "      <td>153</td>\n",
       "      <td>226</td>\n",
       "    </tr>\n",
       "    <tr>\n",
       "      <th>31</th>\n",
       "      <td>555</td>\n",
       "      <td>225</td>\n",
       "    </tr>\n",
       "    <tr>\n",
       "      <th>9</th>\n",
       "      <td>253</td>\n",
       "      <td>194</td>\n",
       "    </tr>\n",
       "    <tr>\n",
       "      <th>11</th>\n",
       "      <td>255</td>\n",
       "      <td>191</td>\n",
       "    </tr>\n",
       "    <tr>\n",
       "      <th>27</th>\n",
       "      <td>512</td>\n",
       "      <td>92</td>\n",
       "    </tr>\n",
       "    <tr>\n",
       "      <th>1</th>\n",
       "      <td>112</td>\n",
       "      <td>72</td>\n",
       "    </tr>\n",
       "    <tr>\n",
       "      <th>20</th>\n",
       "      <td>412</td>\n",
       "      <td>69</td>\n",
       "    </tr>\n",
       "    <tr>\n",
       "      <th>13</th>\n",
       "      <td>312</td>\n",
       "      <td>57</td>\n",
       "    </tr>\n",
       "    <tr>\n",
       "      <th>6</th>\n",
       "      <td>212</td>\n",
       "      <td>51</td>\n",
       "    </tr>\n",
       "    <tr>\n",
       "      <th>0</th>\n",
       "      <td>111</td>\n",
       "      <td>45</td>\n",
       "    </tr>\n",
       "    <tr>\n",
       "      <th>19</th>\n",
       "      <td>411</td>\n",
       "      <td>44</td>\n",
       "    </tr>\n",
       "    <tr>\n",
       "      <th>26</th>\n",
       "      <td>511</td>\n",
       "      <td>41</td>\n",
       "    </tr>\n",
       "    <tr>\n",
       "      <th>12</th>\n",
       "      <td>311</td>\n",
       "      <td>36</td>\n",
       "    </tr>\n",
       "    <tr>\n",
       "      <th>5</th>\n",
       "      <td>211</td>\n",
       "      <td>29</td>\n",
       "    </tr>\n",
       "    <tr>\n",
       "      <th>15</th>\n",
       "      <td>333</td>\n",
       "      <td>9</td>\n",
       "    </tr>\n",
       "    <tr>\n",
       "      <th>22</th>\n",
       "      <td>433</td>\n",
       "      <td>6</td>\n",
       "    </tr>\n",
       "    <tr>\n",
       "      <th>14</th>\n",
       "      <td>332</td>\n",
       "      <td>4</td>\n",
       "    </tr>\n",
       "    <tr>\n",
       "      <th>8</th>\n",
       "      <td>233</td>\n",
       "      <td>3</td>\n",
       "    </tr>\n",
       "    <tr>\n",
       "      <th>28</th>\n",
       "      <td>533</td>\n",
       "      <td>3</td>\n",
       "    </tr>\n",
       "    <tr>\n",
       "      <th>21</th>\n",
       "      <td>432</td>\n",
       "      <td>2</td>\n",
       "    </tr>\n",
       "    <tr>\n",
       "      <th>7</th>\n",
       "      <td>232</td>\n",
       "      <td>1</td>\n",
       "    </tr>\n",
       "  </tbody>\n",
       "</table>\n",
       "</div>"
      ],
      "text/plain": [
       "   RFM_Score  id_student\n",
       "24       454         418\n",
       "4        155         335\n",
       "17       354         328\n",
       "25       455         319\n",
       "30       554         299\n",
       "29       553         297\n",
       "23       453         286\n",
       "18       355         243\n",
       "16       353         240\n",
       "3        154         238\n",
       "10       254         230\n",
       "2        153         226\n",
       "31       555         225\n",
       "9        253         194\n",
       "11       255         191\n",
       "27       512          92\n",
       "1        112          72\n",
       "20       412          69\n",
       "13       312          57\n",
       "6        212          51\n",
       "0        111          45\n",
       "19       411          44\n",
       "26       511          41\n",
       "12       311          36\n",
       "5        211          29\n",
       "15       333           9\n",
       "22       433           6\n",
       "14       332           4\n",
       "8        233           3\n",
       "28       533           3\n",
       "21       432           2\n",
       "7        232           1"
      ]
     },
     "execution_count": 30,
     "metadata": {},
     "output_type": "execute_result"
    }
   ],
   "source": [
    "RFM_df.groupby('RFM_Score', as_index = False).agg({'id_student' : 'count'}).sort_values(by = 'id_student', ascending = False)\n",
    "#.shape"
   ]
  },
  {
   "cell_type": "markdown",
   "metadata": {},
   "source": [
    "Одельно посмотрим на сегменты с завершенным 1-м из 2-х курсов (frequency - 0.5) на 2 балла в среднем, чтобы понять, какие это студенты"
   ]
  },
  {
   "cell_type": "code",
   "execution_count": 31,
   "metadata": {},
   "outputs": [
    {
     "data": {
      "text/plain": [
       "[145114, 535161, 566185, 572382, 601082, 630200, 637691]"
      ]
     },
     "execution_count": 31,
     "metadata": {},
     "output_type": "execute_result"
    }
   ],
   "source": [
    "RFM_df.query('RFM_Score == [\"332\", \"432\", \"232\"]').id_student.to_list()"
   ]
  },
  {
   "cell_type": "code",
   "execution_count": 32,
   "metadata": {},
   "outputs": [
    {
     "data": {
      "text/html": [
       "<div>\n",
       "<style scoped>\n",
       "    .dataframe tbody tr th:only-of-type {\n",
       "        vertical-align: middle;\n",
       "    }\n",
       "\n",
       "    .dataframe tbody tr th {\n",
       "        vertical-align: top;\n",
       "    }\n",
       "\n",
       "    .dataframe thead th {\n",
       "        text-align: right;\n",
       "    }\n",
       "</style>\n",
       "<table border=\"1\" class=\"dataframe\">\n",
       "  <thead>\n",
       "    <tr style=\"text-align: right;\">\n",
       "      <th></th>\n",
       "      <th>id_assessment</th>\n",
       "      <th>id_student</th>\n",
       "      <th>date_submitted</th>\n",
       "      <th>is_banked</th>\n",
       "      <th>score</th>\n",
       "      <th>code_module</th>\n",
       "      <th>code_presentation</th>\n",
       "      <th>assessment_type</th>\n",
       "      <th>date</th>\n",
       "      <th>weight</th>\n",
       "    </tr>\n",
       "  </thead>\n",
       "  <tbody>\n",
       "    <tr>\n",
       "      <th>58714</th>\n",
       "      <td>24295</td>\n",
       "      <td>145114</td>\n",
       "      <td>21</td>\n",
       "      <td>0</td>\n",
       "      <td>78.0</td>\n",
       "      <td>CCC</td>\n",
       "      <td>2014J</td>\n",
       "      <td>CMA</td>\n",
       "      <td>18.0</td>\n",
       "      <td>2.0</td>\n",
       "    </tr>\n",
       "    <tr>\n",
       "      <th>61168</th>\n",
       "      <td>24296</td>\n",
       "      <td>145114</td>\n",
       "      <td>69</td>\n",
       "      <td>0</td>\n",
       "      <td>66.0</td>\n",
       "      <td>CCC</td>\n",
       "      <td>2014J</td>\n",
       "      <td>CMA</td>\n",
       "      <td>67.0</td>\n",
       "      <td>7.0</td>\n",
       "    </tr>\n",
       "    <tr>\n",
       "      <th>61601</th>\n",
       "      <td>24297</td>\n",
       "      <td>145114</td>\n",
       "      <td>147</td>\n",
       "      <td>0</td>\n",
       "      <td>50.0</td>\n",
       "      <td>CCC</td>\n",
       "      <td>2014J</td>\n",
       "      <td>CMA</td>\n",
       "      <td>144.0</td>\n",
       "      <td>8.0</td>\n",
       "    </tr>\n",
       "    <tr>\n",
       "      <th>63232</th>\n",
       "      <td>24298</td>\n",
       "      <td>145114</td>\n",
       "      <td>219</td>\n",
       "      <td>0</td>\n",
       "      <td>38.0</td>\n",
       "      <td>CCC</td>\n",
       "      <td>2014J</td>\n",
       "      <td>CMA</td>\n",
       "      <td>214.0</td>\n",
       "      <td>8.0</td>\n",
       "    </tr>\n",
       "    <tr>\n",
       "      <th>64845</th>\n",
       "      <td>24299</td>\n",
       "      <td>145114</td>\n",
       "      <td>244</td>\n",
       "      <td>0</td>\n",
       "      <td>22.0</td>\n",
       "      <td>CCC</td>\n",
       "      <td>2014J</td>\n",
       "      <td>Exam</td>\n",
       "      <td>NaN</td>\n",
       "      <td>100.0</td>\n",
       "    </tr>\n",
       "    <tr>\n",
       "      <th>83471</th>\n",
       "      <td>25355</td>\n",
       "      <td>145114</td>\n",
       "      <td>24</td>\n",
       "      <td>0</td>\n",
       "      <td>77.0</td>\n",
       "      <td>DDD</td>\n",
       "      <td>2014B</td>\n",
       "      <td>TMA</td>\n",
       "      <td>25.0</td>\n",
       "      <td>10.0</td>\n",
       "    </tr>\n",
       "    <tr>\n",
       "      <th>84498</th>\n",
       "      <td>25356</td>\n",
       "      <td>145114</td>\n",
       "      <td>52</td>\n",
       "      <td>0</td>\n",
       "      <td>79.0</td>\n",
       "      <td>DDD</td>\n",
       "      <td>2014B</td>\n",
       "      <td>TMA</td>\n",
       "      <td>53.0</td>\n",
       "      <td>12.5</td>\n",
       "    </tr>\n",
       "    <tr>\n",
       "      <th>85660</th>\n",
       "      <td>25357</td>\n",
       "      <td>145114</td>\n",
       "      <td>71</td>\n",
       "      <td>0</td>\n",
       "      <td>89.0</td>\n",
       "      <td>DDD</td>\n",
       "      <td>2014B</td>\n",
       "      <td>TMA</td>\n",
       "      <td>74.0</td>\n",
       "      <td>17.5</td>\n",
       "    </tr>\n",
       "    <tr>\n",
       "      <th>85879</th>\n",
       "      <td>25358</td>\n",
       "      <td>145114</td>\n",
       "      <td>115</td>\n",
       "      <td>0</td>\n",
       "      <td>39.0</td>\n",
       "      <td>DDD</td>\n",
       "      <td>2014B</td>\n",
       "      <td>TMA</td>\n",
       "      <td>116.0</td>\n",
       "      <td>20.0</td>\n",
       "    </tr>\n",
       "    <tr>\n",
       "      <th>87339</th>\n",
       "      <td>25360</td>\n",
       "      <td>145114</td>\n",
       "      <td>199</td>\n",
       "      <td>0</td>\n",
       "      <td>24.0</td>\n",
       "      <td>DDD</td>\n",
       "      <td>2014B</td>\n",
       "      <td>TMA</td>\n",
       "      <td>200.0</td>\n",
       "      <td>20.0</td>\n",
       "    </tr>\n",
       "    <tr>\n",
       "      <th>87465</th>\n",
       "      <td>25361</td>\n",
       "      <td>145114</td>\n",
       "      <td>234</td>\n",
       "      <td>0</td>\n",
       "      <td>51.0</td>\n",
       "      <td>DDD</td>\n",
       "      <td>2014B</td>\n",
       "      <td>Exam</td>\n",
       "      <td>241.0</td>\n",
       "      <td>100.0</td>\n",
       "    </tr>\n",
       "  </tbody>\n",
       "</table>\n",
       "</div>"
      ],
      "text/plain": [
       "       id_assessment  id_student  date_submitted  is_banked  score  \\\n",
       "58714          24295      145114              21          0   78.0   \n",
       "61168          24296      145114              69          0   66.0   \n",
       "61601          24297      145114             147          0   50.0   \n",
       "63232          24298      145114             219          0   38.0   \n",
       "64845          24299      145114             244          0   22.0   \n",
       "83471          25355      145114              24          0   77.0   \n",
       "84498          25356      145114              52          0   79.0   \n",
       "85660          25357      145114              71          0   89.0   \n",
       "85879          25358      145114             115          0   39.0   \n",
       "87339          25360      145114             199          0   24.0   \n",
       "87465          25361      145114             234          0   51.0   \n",
       "\n",
       "      code_module code_presentation assessment_type   date  weight  \n",
       "58714         CCC             2014J             CMA   18.0     2.0  \n",
       "61168         CCC             2014J             CMA   67.0     7.0  \n",
       "61601         CCC             2014J             CMA  144.0     8.0  \n",
       "63232         CCC             2014J             CMA  214.0     8.0  \n",
       "64845         CCC             2014J            Exam    NaN   100.0  \n",
       "83471         DDD             2014B             TMA   25.0    10.0  \n",
       "84498         DDD             2014B             TMA   53.0    12.5  \n",
       "85660         DDD             2014B             TMA   74.0    17.5  \n",
       "85879         DDD             2014B             TMA  116.0    20.0  \n",
       "87339         DDD             2014B             TMA  200.0    20.0  \n",
       "87465         DDD             2014B            Exam  241.0   100.0  "
      ]
     },
     "execution_count": 32,
     "metadata": {},
     "output_type": "execute_result"
    }
   ],
   "source": [
    "#находим их в общем датафрейме по одному\n",
    "Total_assessments.query('id_student == \"145114\"')"
   ]
  },
  {
   "cell_type": "markdown",
   "metadata": {},
   "source": [
    "Стало понятно - плохо сдавали оба экзамена, но по одному всё-таки дотянули, поэтому средний балл такой."
   ]
  },
  {
   "cell_type": "markdown",
   "metadata": {},
   "source": [
    "### Формулируем описание всех групп (у нас их не очень много), подумаем, что можно укрунить, создаём границы метрик.\n",
    "\n",
    "#### флагманы\n",
    "[4-5]55 - отличники, для которых всё просто\n",
    "554 - хорошисты, сдают быстро, не дотягивают до высших баллов\n",
    "\n",
    "#### cпособные (могут пополнить костяк или флагамнов)\n",
    "[1-2]55 - отличники-лентяи или очень уж вдумчивые (подумают быстрее - всё равно сдадут)\n",
    "[1-2]54 - очень долго думают, но способности хороши (подумают быстрее - всё равно сдадут)\n",
    "\n",
    "#### костяк\n",
    "[3-4]54 - твёрдые успешные ребята, всё понимают, сдают хорошо\n",
    "\n",
    "#### кандидаты во флагманы (требуется приложение усилий)\n",
    "355 - усваивают отлично, но им нужно время\n",
    "\n",
    "#### студенты с потенциалом (требуется приложение усилий)\n",
    "[3-5]33 - брались за 2 курса, один осилили (можно подтянуть их, у них есть желание учиться и потенциал)\n",
    "\n",
    "#### несерьёзные (в зоне риска)\n",
    "[4-5]53- торопятся быстрее сдать, своё получают\n",
    "353 - звёзд с неба не хтватают, думают небыстро, способностей к сдаче немного\n",
    "233 - не осили 2 курса, может потому, что долго соображают\n",
    " \n",
    "#### разгильдяи (в зоне риска, можем потерять)\n",
    "[1-2]53 - на грани несдачи, этих можем потерять \n",
    "[2-4]32 - брались за 2 курса, один сдали, но еле как, а второй плохо\n",
    "\n",
    "#### недотянувшие до сдачи (требуется приложение усилий)\n",
    "[4-5]12  - вероятно, старательные, но немного им не хватает до сдачи экзамена (можно качнуть до сдающих)\n",
    "\n",
    "#### безнадёжные\n",
    "[1-2]1[1-2] - лодыри, либо совсем без пониания, долго тянут и не сдают.\n",
    "312 - может быть невезение, может быть непонимание, но результат плохой, уверенности нет\n",
    "[3-5]11 - тоже лодыри, либо самоуверенные баз понимания - сдают быстро или умеренно, но совсем уж низкий балл."
   ]
  },
  {
   "cell_type": "code",
   "execution_count": 33,
   "metadata": {},
   "outputs": [
    {
     "data": {
      "text/html": [
       "<div>\n",
       "<style scoped>\n",
       "    .dataframe tbody tr th:only-of-type {\n",
       "        vertical-align: middle;\n",
       "    }\n",
       "\n",
       "    .dataframe tbody tr th {\n",
       "        vertical-align: top;\n",
       "    }\n",
       "\n",
       "    .dataframe thead th {\n",
       "        text-align: right;\n",
       "    }\n",
       "</style>\n",
       "<table border=\"1\" class=\"dataframe\">\n",
       "  <thead>\n",
       "    <tr style=\"text-align: right;\">\n",
       "      <th></th>\n",
       "      <th>id_student</th>\n",
       "      <th>recency</th>\n",
       "      <th>monetary</th>\n",
       "      <th>frequency</th>\n",
       "      <th>R</th>\n",
       "      <th>F</th>\n",
       "      <th>M</th>\n",
       "      <th>RFM_Score</th>\n",
       "      <th>Segment</th>\n",
       "    </tr>\n",
       "  </thead>\n",
       "  <tbody>\n",
       "    <tr>\n",
       "      <th>0</th>\n",
       "      <td>23698</td>\n",
       "      <td>243.0</td>\n",
       "      <td>80.0</td>\n",
       "      <td>1.0</td>\n",
       "      <td>2</td>\n",
       "      <td>5</td>\n",
       "      <td>5</td>\n",
       "      <td>255</td>\n",
       "      <td>способные (могут пополнить костяк или флагамнов)</td>\n",
       "    </tr>\n",
       "    <tr>\n",
       "      <th>1</th>\n",
       "      <td>24213</td>\n",
       "      <td>236.0</td>\n",
       "      <td>58.0</td>\n",
       "      <td>1.0</td>\n",
       "      <td>4</td>\n",
       "      <td>5</td>\n",
       "      <td>3</td>\n",
       "      <td>453</td>\n",
       "      <td>несерьёзные (в зоне риска)</td>\n",
       "    </tr>\n",
       "    <tr>\n",
       "      <th>2</th>\n",
       "      <td>27116</td>\n",
       "      <td>243.0</td>\n",
       "      <td>96.0</td>\n",
       "      <td>1.0</td>\n",
       "      <td>2</td>\n",
       "      <td>5</td>\n",
       "      <td>5</td>\n",
       "      <td>255</td>\n",
       "      <td>способные (могут пополнить костяк или флагамнов)</td>\n",
       "    </tr>\n",
       "    <tr>\n",
       "      <th>3</th>\n",
       "      <td>28046</td>\n",
       "      <td>237.0</td>\n",
       "      <td>40.0</td>\n",
       "      <td>1.0</td>\n",
       "      <td>4</td>\n",
       "      <td>5</td>\n",
       "      <td>3</td>\n",
       "      <td>453</td>\n",
       "      <td>несерьёзные (в зоне риска)</td>\n",
       "    </tr>\n",
       "    <tr>\n",
       "      <th>4</th>\n",
       "      <td>28787</td>\n",
       "      <td>243.0</td>\n",
       "      <td>44.0</td>\n",
       "      <td>1.0</td>\n",
       "      <td>2</td>\n",
       "      <td>5</td>\n",
       "      <td>3</td>\n",
       "      <td>253</td>\n",
       "      <td>разгильдяи (можем потерять)</td>\n",
       "    </tr>\n",
       "    <tr>\n",
       "      <th>5</th>\n",
       "      <td>29411</td>\n",
       "      <td>237.0</td>\n",
       "      <td>62.0</td>\n",
       "      <td>1.0</td>\n",
       "      <td>4</td>\n",
       "      <td>5</td>\n",
       "      <td>4</td>\n",
       "      <td>454</td>\n",
       "      <td>Костяк</td>\n",
       "    </tr>\n",
       "    <tr>\n",
       "      <th>6</th>\n",
       "      <td>29420</td>\n",
       "      <td>244.0</td>\n",
       "      <td>62.0</td>\n",
       "      <td>1.0</td>\n",
       "      <td>1</td>\n",
       "      <td>5</td>\n",
       "      <td>4</td>\n",
       "      <td>154</td>\n",
       "      <td>способные (могут пополнить костяк или флагамнов)</td>\n",
       "    </tr>\n",
       "    <tr>\n",
       "      <th>7</th>\n",
       "      <td>29639</td>\n",
       "      <td>248.0</td>\n",
       "      <td>74.0</td>\n",
       "      <td>1.0</td>\n",
       "      <td>1</td>\n",
       "      <td>5</td>\n",
       "      <td>4</td>\n",
       "      <td>154</td>\n",
       "      <td>способные (могут пополнить костяк или флагамнов)</td>\n",
       "    </tr>\n",
       "    <tr>\n",
       "      <th>8</th>\n",
       "      <td>29764</td>\n",
       "      <td>230.0</td>\n",
       "      <td>94.0</td>\n",
       "      <td>1.0</td>\n",
       "      <td>5</td>\n",
       "      <td>5</td>\n",
       "      <td>5</td>\n",
       "      <td>555</td>\n",
       "      <td>флагманы</td>\n",
       "    </tr>\n",
       "    <tr>\n",
       "      <th>9</th>\n",
       "      <td>29820</td>\n",
       "      <td>230.0</td>\n",
       "      <td>76.0</td>\n",
       "      <td>1.0</td>\n",
       "      <td>5</td>\n",
       "      <td>5</td>\n",
       "      <td>4</td>\n",
       "      <td>554</td>\n",
       "      <td>флагманы</td>\n",
       "    </tr>\n",
       "    <tr>\n",
       "      <th>10</th>\n",
       "      <td>30096</td>\n",
       "      <td>244.0</td>\n",
       "      <td>96.0</td>\n",
       "      <td>1.0</td>\n",
       "      <td>1</td>\n",
       "      <td>5</td>\n",
       "      <td>5</td>\n",
       "      <td>155</td>\n",
       "      <td>способные (могут пополнить костяк или флагамнов)</td>\n",
       "    </tr>\n",
       "    <tr>\n",
       "      <th>11</th>\n",
       "      <td>30850</td>\n",
       "      <td>244.0</td>\n",
       "      <td>100.0</td>\n",
       "      <td>1.0</td>\n",
       "      <td>1</td>\n",
       "      <td>5</td>\n",
       "      <td>5</td>\n",
       "      <td>155</td>\n",
       "      <td>способные (могут пополнить костяк или флагамнов)</td>\n",
       "    </tr>\n",
       "    <tr>\n",
       "      <th>12</th>\n",
       "      <td>31161</td>\n",
       "      <td>244.0</td>\n",
       "      <td>100.0</td>\n",
       "      <td>1.0</td>\n",
       "      <td>1</td>\n",
       "      <td>5</td>\n",
       "      <td>5</td>\n",
       "      <td>155</td>\n",
       "      <td>способные (могут пополнить костяк или флагамнов)</td>\n",
       "    </tr>\n",
       "    <tr>\n",
       "      <th>13</th>\n",
       "      <td>31173</td>\n",
       "      <td>242.0</td>\n",
       "      <td>27.0</td>\n",
       "      <td>0.0</td>\n",
       "      <td>3</td>\n",
       "      <td>1</td>\n",
       "      <td>1</td>\n",
       "      <td>311</td>\n",
       "      <td>безнадёжные</td>\n",
       "    </tr>\n",
       "    <tr>\n",
       "      <th>14</th>\n",
       "      <td>33796</td>\n",
       "      <td>242.0</td>\n",
       "      <td>44.0</td>\n",
       "      <td>1.0</td>\n",
       "      <td>3</td>\n",
       "      <td>5</td>\n",
       "      <td>3</td>\n",
       "      <td>353</td>\n",
       "      <td>несерьёзные (в зоне риска)</td>\n",
       "    </tr>\n",
       "    <tr>\n",
       "      <th>15</th>\n",
       "      <td>33930</td>\n",
       "      <td>237.0</td>\n",
       "      <td>67.0</td>\n",
       "      <td>1.0</td>\n",
       "      <td>4</td>\n",
       "      <td>5</td>\n",
       "      <td>4</td>\n",
       "      <td>454</td>\n",
       "      <td>Костяк</td>\n",
       "    </tr>\n",
       "    <tr>\n",
       "      <th>16</th>\n",
       "      <td>35508</td>\n",
       "      <td>244.0</td>\n",
       "      <td>82.0</td>\n",
       "      <td>1.0</td>\n",
       "      <td>1</td>\n",
       "      <td>5</td>\n",
       "      <td>5</td>\n",
       "      <td>155</td>\n",
       "      <td>способные (могут пополнить костяк или флагамнов)</td>\n",
       "    </tr>\n",
       "    <tr>\n",
       "      <th>17</th>\n",
       "      <td>37652</td>\n",
       "      <td>243.0</td>\n",
       "      <td>100.0</td>\n",
       "      <td>1.0</td>\n",
       "      <td>2</td>\n",
       "      <td>5</td>\n",
       "      <td>5</td>\n",
       "      <td>255</td>\n",
       "      <td>способные (могут пополнить костяк или флагамнов)</td>\n",
       "    </tr>\n",
       "    <tr>\n",
       "      <th>18</th>\n",
       "      <td>40184</td>\n",
       "      <td>241.0</td>\n",
       "      <td>100.0</td>\n",
       "      <td>1.0</td>\n",
       "      <td>3</td>\n",
       "      <td>5</td>\n",
       "      <td>5</td>\n",
       "      <td>355</td>\n",
       "      <td>кандидаты во флагманы (требуется приложение ус...</td>\n",
       "    </tr>\n",
       "    <tr>\n",
       "      <th>19</th>\n",
       "      <td>40419</td>\n",
       "      <td>237.0</td>\n",
       "      <td>69.0</td>\n",
       "      <td>1.0</td>\n",
       "      <td>4</td>\n",
       "      <td>5</td>\n",
       "      <td>4</td>\n",
       "      <td>454</td>\n",
       "      <td>Костяк</td>\n",
       "    </tr>\n",
       "  </tbody>\n",
       "</table>\n",
       "</div>"
      ],
      "text/plain": [
       "    id_student  recency  monetary  frequency  R  F  M RFM_Score  \\\n",
       "0        23698    243.0      80.0        1.0  2  5  5       255   \n",
       "1        24213    236.0      58.0        1.0  4  5  3       453   \n",
       "2        27116    243.0      96.0        1.0  2  5  5       255   \n",
       "3        28046    237.0      40.0        1.0  4  5  3       453   \n",
       "4        28787    243.0      44.0        1.0  2  5  3       253   \n",
       "5        29411    237.0      62.0        1.0  4  5  4       454   \n",
       "6        29420    244.0      62.0        1.0  1  5  4       154   \n",
       "7        29639    248.0      74.0        1.0  1  5  4       154   \n",
       "8        29764    230.0      94.0        1.0  5  5  5       555   \n",
       "9        29820    230.0      76.0        1.0  5  5  4       554   \n",
       "10       30096    244.0      96.0        1.0  1  5  5       155   \n",
       "11       30850    244.0     100.0        1.0  1  5  5       155   \n",
       "12       31161    244.0     100.0        1.0  1  5  5       155   \n",
       "13       31173    242.0      27.0        0.0  3  1  1       311   \n",
       "14       33796    242.0      44.0        1.0  3  5  3       353   \n",
       "15       33930    237.0      67.0        1.0  4  5  4       454   \n",
       "16       35508    244.0      82.0        1.0  1  5  5       155   \n",
       "17       37652    243.0     100.0        1.0  2  5  5       255   \n",
       "18       40184    241.0     100.0        1.0  3  5  5       355   \n",
       "19       40419    237.0      69.0        1.0  4  5  4       454   \n",
       "\n",
       "                                              Segment  \n",
       "0    способные (могут пополнить костяк или флагамнов)  \n",
       "1                          несерьёзные (в зоне риска)  \n",
       "2    способные (могут пополнить костяк или флагамнов)  \n",
       "3                          несерьёзные (в зоне риска)  \n",
       "4                         разгильдяи (можем потерять)  \n",
       "5                                              Костяк  \n",
       "6    способные (могут пополнить костяк или флагамнов)  \n",
       "7    способные (могут пополнить костяк или флагамнов)  \n",
       "8                                            флагманы  \n",
       "9                                            флагманы  \n",
       "10   способные (могут пополнить костяк или флагамнов)  \n",
       "11   способные (могут пополнить костяк или флагамнов)  \n",
       "12   способные (могут пополнить костяк или флагамнов)  \n",
       "13                                        безнадёжные  \n",
       "14                         несерьёзные (в зоне риска)  \n",
       "15                                             Костяк  \n",
       "16   способные (могут пополнить костяк или флагамнов)  \n",
       "17   способные (могут пополнить костяк или флагамнов)  \n",
       "18  кандидаты во флагманы (требуется приложение ус...  \n",
       "19                                             Костяк  "
      ]
     },
     "execution_count": 33,
     "metadata": {},
     "output_type": "execute_result"
    }
   ],
   "source": [
    "#создаём такие сегменты и колонку в нашем датафрейме\n",
    "\n",
    "segt_map = {\n",
    "    r'[4-5]55': 'флагманы',\n",
    "    r'554': 'флагманы',\n",
    "    r'[1-2]55': 'способные (могут пополнить костяк или флагамнов)',\n",
    "    r'[1-2]54': 'способные (могут пополнить костяк или флагамнов)',\n",
    "    r'[3-4]54': 'Костяк',\n",
    "    r'355': 'кандидаты во флагманы (требуется приложение усилий)',\n",
    "    r'[3-5]33': 'студенты с потенциалом (требуется приложение усилий)',\n",
    "    r'[4-5]53': 'несерьёзные (в зоне риска)',\n",
    "    r'353': 'несерьёзные (в зоне риска)',\n",
    "    r'233': 'несерьёзные (в зоне риска)',\n",
    "    r'[1-2]53': 'разгильдяи (можем потерять)',\n",
    "    r'[2-4]32': 'разгильдяи (можем потерять)',\n",
    "    r'[4-5]12': 'недотянувшие до сдачи (требуется приложение усилий)',\n",
    "    r'[1-2]1[1-2]': 'безнадёжные',\n",
    "    r'312': 'безнадёжные',\n",
    "    r'[3-5]11': 'безнадёжные'\n",
    "}\n",
    "\n",
    "RFM_df['Segment'] = RFM_df['R'].map(str) + RFM_df['F'].map(str) + RFM_df['M'].map(str)\n",
    "RFM_df['Segment'] = RFM_df['Segment'].replace(segt_map, regex=True)\n",
    "\n",
    "RFM_df.head(20)"
   ]
  },
  {
   "cell_type": "markdown",
   "metadata": {},
   "source": [
    "Делаем аггрегацию по сегментам и смотрим средние значения метрик для понимания приложения усилий. А также считаем количество студентов в кажом сегменте."
   ]
  },
  {
   "cell_type": "code",
   "execution_count": 34,
   "metadata": {},
   "outputs": [
    {
     "data": {
      "text/html": [
       "<div>\n",
       "<style scoped>\n",
       "    .dataframe tbody tr th:only-of-type {\n",
       "        vertical-align: middle;\n",
       "    }\n",
       "\n",
       "    .dataframe tbody tr th {\n",
       "        vertical-align: top;\n",
       "    }\n",
       "\n",
       "    .dataframe thead th {\n",
       "        text-align: right;\n",
       "    }\n",
       "</style>\n",
       "<table border=\"1\" class=\"dataframe\">\n",
       "  <thead>\n",
       "    <tr style=\"text-align: right;\">\n",
       "      <th></th>\n",
       "      <th>Segment</th>\n",
       "      <th>recency</th>\n",
       "      <th>monetary</th>\n",
       "      <th>frequency</th>\n",
       "      <th>id_student</th>\n",
       "    </tr>\n",
       "  </thead>\n",
       "  <tbody>\n",
       "    <tr>\n",
       "      <th>0</th>\n",
       "      <td>Костяк</td>\n",
       "      <td>238.130697</td>\n",
       "      <td>69.329088</td>\n",
       "      <td>1.000000</td>\n",
       "      <td>746</td>\n",
       "    </tr>\n",
       "    <tr>\n",
       "      <th>1</th>\n",
       "      <td>безнадёжные</td>\n",
       "      <td>240.886667</td>\n",
       "      <td>28.693333</td>\n",
       "      <td>0.000000</td>\n",
       "      <td>375</td>\n",
       "    </tr>\n",
       "    <tr>\n",
       "      <th>2</th>\n",
       "      <td>кандидаты во флагманы (требуется приложение ус...</td>\n",
       "      <td>241.314815</td>\n",
       "      <td>88.191358</td>\n",
       "      <td>1.000000</td>\n",
       "      <td>243</td>\n",
       "    </tr>\n",
       "    <tr>\n",
       "      <th>3</th>\n",
       "      <td>недотянувшие до сдачи (требуется приложение ус...</td>\n",
       "      <td>232.354037</td>\n",
       "      <td>34.900621</td>\n",
       "      <td>0.000000</td>\n",
       "      <td>161</td>\n",
       "    </tr>\n",
       "    <tr>\n",
       "      <th>4</th>\n",
       "      <td>несерьёзные (в зоне риска)</td>\n",
       "      <td>235.278450</td>\n",
       "      <td>49.661622</td>\n",
       "      <td>0.998184</td>\n",
       "      <td>826</td>\n",
       "    </tr>\n",
       "    <tr>\n",
       "      <th>5</th>\n",
       "      <td>разгильдяи (можем потерять)</td>\n",
       "      <td>243.900468</td>\n",
       "      <td>49.681499</td>\n",
       "      <td>0.991803</td>\n",
       "      <td>427</td>\n",
       "    </tr>\n",
       "    <tr>\n",
       "      <th>6</th>\n",
       "      <td>способные (могут пополнить костяк или флагамнов)</td>\n",
       "      <td>244.015091</td>\n",
       "      <td>80.272133</td>\n",
       "      <td>1.000000</td>\n",
       "      <td>994</td>\n",
       "    </tr>\n",
       "    <tr>\n",
       "      <th>7</th>\n",
       "      <td>студенты с потенциалом (требуется приложение у...</td>\n",
       "      <td>235.916667</td>\n",
       "      <td>48.666667</td>\n",
       "      <td>0.500000</td>\n",
       "      <td>18</td>\n",
       "    </tr>\n",
       "    <tr>\n",
       "      <th>8</th>\n",
       "      <td>флагманы</td>\n",
       "      <td>231.893238</td>\n",
       "      <td>82.160735</td>\n",
       "      <td>1.000000</td>\n",
       "      <td>843</td>\n",
       "    </tr>\n",
       "  </tbody>\n",
       "</table>\n",
       "</div>"
      ],
      "text/plain": [
       "                                             Segment     recency   monetary  \\\n",
       "0                                             Костяк  238.130697  69.329088   \n",
       "1                                        безнадёжные  240.886667  28.693333   \n",
       "2  кандидаты во флагманы (требуется приложение ус...  241.314815  88.191358   \n",
       "3  недотянувшие до сдачи (требуется приложение ус...  232.354037  34.900621   \n",
       "4                         несерьёзные (в зоне риска)  235.278450  49.661622   \n",
       "5                        разгильдяи (можем потерять)  243.900468  49.681499   \n",
       "6   способные (могут пополнить костяк или флагамнов)  244.015091  80.272133   \n",
       "7  студенты с потенциалом (требуется приложение у...  235.916667  48.666667   \n",
       "8                                           флагманы  231.893238  82.160735   \n",
       "\n",
       "   frequency  id_student  \n",
       "0   1.000000         746  \n",
       "1   0.000000         375  \n",
       "2   1.000000         243  \n",
       "3   0.000000         161  \n",
       "4   0.998184         826  \n",
       "5   0.991803         427  \n",
       "6   1.000000         994  \n",
       "7   0.500000          18  \n",
       "8   1.000000         843  "
      ]
     },
     "execution_count": 34,
     "metadata": {},
     "output_type": "execute_result"
    }
   ],
   "source": [
    "RFM_segt_agg = RFM_df.groupby('Segment', as_index = False) \\\n",
    ".agg({'recency':'mean', 'monetary':'mean', 'frequency':'mean', 'id_student':'count'})\n",
    "RFM_segt_agg"
   ]
  },
  {
   "cell_type": "code",
   "execution_count": 35,
   "metadata": {},
   "outputs": [
    {
     "data": {
      "text/plain": [
       "4633"
      ]
     },
     "execution_count": 35,
     "metadata": {},
     "output_type": "execute_result"
    }
   ],
   "source": [
    "RFM_segt_agg.id_student.sum()\n",
    "#проверяем и видим, что никого из студентов не потеряли, все распраделены."
   ]
  },
  {
   "cell_type": "markdown",
   "metadata": {},
   "source": [
    "#### Построим визуализации распределения наших метрик среди студентов по рангам. "
   ]
  },
  {
   "cell_type": "code",
   "execution_count": 36,
   "metadata": {},
   "outputs": [
    {
     "data": {
      "image/png": "[encoded data removed]",
      "text/plain": [
       "<Figure size 2016x360 with 3 Axes>"
      ]
     },
     "metadata": {
      "needs_background": "light"
     },
     "output_type": "display_data"
    }
   ],
   "source": [
    "fig, axes = plt.subplots(nrows=1, ncols=3, figsize=(28, 5))\n",
    "\n",
    "for i, p in enumerate(['R', 'F', 'M']):\n",
    "    parameters = {'R':'Recency', 'F':'Frequency', 'M':'Monetary'}\n",
    "    y = RFM_df[p].value_counts().sort_index()\n",
    "    x = y.index\n",
    "    ax = axes[i]\n",
    "    bars = ax.bar(x, y, color='silver')\n",
    "    ax.set_frame_on(False)\n",
    "    ax.tick_params(left=False, labelleft=False, bottom=False)\n",
    "    ax.set_title('Distribution of {}'.format(parameters[p]),\n",
    "                fontsize=28)\n",
    "    \n",
    "    for bar in bars:\n",
    "        value = bar.get_height()\n",
    "        if value == y.max():\n",
    "            bar.set_color('firebrick')\n",
    "        ax.text(bar.get_x() + bar.get_width() / 2,\n",
    "                value - 5,\n",
    "                '{}\\n({}%)'.format(int(value), int(value * 100 / y.sum())),\n",
    "               ha='center',\n",
    "               va='top',\n",
    "               color='black', fontsize=15)\n",
    "\n",
    "plt.show()"
   ]
  },
  {
   "cell_type": "markdown",
   "metadata": {},
   "source": [
    "#### Видим в целом положительную картину:\n",
    "\n",
    "- Сроки сдачи у большинства нормальные, самая большая группа - близкие к кратчайшим. При этом периоды сдачи близки между собой по количеству студентов.\n",
    "\n",
    "- Подавляющее большинство взявшихся за экзамены сдали их (один или оба). С неудом остались лишь 11 процентов.\n",
    "\n",
    "- Преобладают оценки хорошо и отлично. На 3 балла (если перевести в 5-бальную шкалу) сдали 27 процентов, внушительная но не  самая большая группа. Несдавших немного, но среди них есть студенты \"2-го сегмента\" - которые скорее всего могли бы сдать  на зачёт при определённых условиях.\n"
   ]
  },
  {
   "cell_type": "markdown",
   "metadata": {},
   "source": [
    "#### Построим распределение метрики M - среднего количества баллов для разных рангов F(завершаемости) и R(сроков сдачи)."
   ]
  },
  {
   "cell_type": "code",
   "execution_count": 37,
   "metadata": {},
   "outputs": [
    {
     "data": {
      "image/png": "[encoded data removed]",
      "text/plain": [
       "<Figure size 720x720 with 25 Axes>"
      ]
     },
     "metadata": {
      "needs_background": "light"
     },
     "output_type": "display_data"
    }
   ],
   "source": [
    "fig, axes = plt.subplots(nrows=5, ncols=5,\n",
    "                         sharex=False, sharey=True,\n",
    "                         figsize=(10, 10))\n",
    "\n",
    "r_range = range(1, 6)\n",
    "f_range = range(1, 6)\n",
    "for r in r_range:\n",
    "    for f in f_range:\n",
    "        y = RFM_df[(RFM_df['R'] == r) & (RFM_df['F'] == f)]['M'].value_counts().sort_index()\n",
    "        x = y.index\n",
    "        ax = axes[r - 1, f - 1]\n",
    "        bars = ax.bar(x, y, color='silver')\n",
    "        if r == 5:\n",
    "            if f == 3:\n",
    "                ax.set_xlabel('{}\\nF'.format(f), va='top')\n",
    "            else:\n",
    "                ax.set_xlabel('{}\\n'.format(f), va='top')\n",
    "        if f == 1:\n",
    "            if r == 3:\n",
    "                ax.set_ylabel('R\\n{}'.format(r))\n",
    "            else:\n",
    "                ax.set_ylabel(r)\n",
    "        ax.set_frame_on(False)\n",
    "        ax.tick_params(left=False, labelleft=False, bottom=False)\n",
    "        ax.set_xticks(x)\n",
    "        ax.set_xticklabels(x, fontsize=8)\n",
    "\n",
    "        for bar in bars:\n",
    "            value = bar.get_height()\n",
    "            if value == y.max():\n",
    "                bar.set_color('firebrick')\n",
    "            ax.text(bar.get_x() + bar.get_width() / 2,\n",
    "                    value,\n",
    "                    int(value),\n",
    "                    ha='center',\n",
    "                    va='bottom',\n",
    "                    color='k')\n",
    "fig.suptitle('Distribution of M for each F and R',\n",
    "             fontsize=14)\n",
    "plt.tight_layout()\n",
    "plt.show()"
   ]
  },
  {
   "cell_type": "markdown",
   "metadata": {},
   "source": [
    "#### Можем сказать, что:\n",
    "\n",
    "- Из тех, кто не сдал, совсем уж лодырей не так много в каждом периоде времени сдачи, при этом, в любом периоде большинство несдавших принадлежат 2-й группе - тем, которые немного недотянули.\n",
    "<br>\n",
    "\n",
    "- Сроки, в которые студенты не сдают, есть разные, в каждом периоде их почти одинаковое количество, но всё же бОльшая группа полчивших неуд - это \"торопыги\", на втором месте \"долго соображающие\", сдавшие в последний момент.\n",
    "<br>\n",
    "\n",
    "- Студентов, сдавших только 1 из 2 экзаменов слишком мало, почти все они сдавали в средние сроки. Средние баллы у них так себе - результаты одного из экзаменов тянут их на дно по среднему баллу, кого-то даже в условный неуд.\n",
    "<br>\n",
    "\n",
    "- Большинство студентов находятся в условной категории \"сдали\". \n",
    "<br>\n",
    "\n",
    "- Ни в одном периоде нет превалирующих \"троечников\", почти всегда это \"хорошисты\". Наибольшее количество \"отличников\" отмечается среди тех, кто сдавал в последнюю очередь.\n",
    "<br>\n",
    "\n",
    "- Самые большие группы успешно сдающих находятся в 3-4 периоде - то есть в средних сроках. В 4 периоде (довольно коротие сроки) находится самая большая группа \"хорошистов\" по сравнению с другими периодами, эта группа самая большая и среди групп по оценками в своём периоде - этих 'хорошистов' 418.\n",
    "<br>\n",
    "\n",
    "- В целом больших отклонений по периодам нет: нет такого, что в какие-то сроки намного больше или намного меньше успешно сдавали.\n",
    "<br>\n",
    "\n",
    "- Также у успешно сдавших не наблюдается большой разницы между группами по баллам от периода к периоду: везде есть приличное количество \"троечников\", \"хорошистов\" и \"отличников\"."
   ]
  },
  {
   "cell_type": "markdown",
   "metadata": {},
   "source": [
    "#### Построим treemap, чтобы определить значительность сегментов\n",
    "Интерактивный график, названия сегментов увеличиваются по наведению или нажатию"
   ]
  },
  {
   "cell_type": "code",
   "execution_count": 39,
   "metadata": {},
   "outputs": [
    {
     "data": {
      "application/vnd.plotly.v1+json": {
       "config": {
        "plotlyServerURL": "https://plot.ly"
       },
       "data": [
        {
         "branchvalues": "total",
         "domain": {
          "x": [
           0,
           1
          ],
          "y": [
           0,
           1
          ]
         },
         "hovertemplate": "labels=%{label}<br>id_student=%{value}<br>parent=%{parent}<br>id=%{id}<extra></extra>",
         "ids": [
          "Костяк",
          "безнадёжные",
          "кандидаты во флагманы (требуется приложение усилий)",
          "недотянувшие до сдачи (требуется приложение усилий)",
          "несерьёзные (в зоне риска)",
          "разгильдяи (можем потерять)",
          "способные (могут пополнить костяк или флагамнов)",
          "студенты с потенциалом (требуется приложение усилий)",
          "флагманы"
         ],
         "labels": [
          "Костяк",
          "безнадёжные",
          "кандидаты во флагманы (требуется приложение усилий)",
          "недотянувшие до сдачи (требуется приложение усилий)",
          "несерьёзные (в зоне риска)",
          "разгильдяи (можем потерять)",
          "способные (могут пополнить костяк или флагамнов)",
          "студенты с потенциалом (требуется приложение усилий)",
          "флагманы"
         ],
         "name": "",
         "parents": [
          "",
          "",
          "",
          "",
          "",
          "",
          "",
          "",
          ""
         ],
         "type": "treemap",
         "values": [
          746,
          375,
          243,
          161,
          826,
          427,
          994,
          18,
          843
         ]
        }
       ],
       "layout": {
        "legend": {
         "tracegroupgap": 0
        },
        "margin": {
         "b": 1,
         "l": 1,
         "r": 25,
         "t": 1
        },
        "template": {
         "data": {
          "bar": [
           {
            "error_x": {
             "color": "#2a3f5f"
            },
            "error_y": {
             "color": "#2a3f5f"
            },
            "marker": {
             "line": {
              "color": "#E5ECF6",
              "width": 0.5
             }
            },
            "type": "bar"
           }
          ],
          "barpolar": [
           {
            "marker": {
             "line": {
              "color": "#E5ECF6",
              "width": 0.5
             }
            },
            "type": "barpolar"
           }
          ],
          "carpet": [
           {
            "aaxis": {
             "endlinecolor": "#2a3f5f",
             "gridcolor": "white",
             "linecolor": "white",
             "minorgridcolor": "white",
             "startlinecolor": "#2a3f5f"
            },
            "baxis": {
             "endlinecolor": "#2a3f5f",
             "gridcolor": "white",
             "linecolor": "white",
             "minorgridcolor": "white",
             "startlinecolor": "#2a3f5f"
            },
            "type": "carpet"
           }
          ],
          "choropleth": [
           {
            "colorbar": {
             "outlinewidth": 0,
             "ticks": ""
            },
            "type": "choropleth"
           }
          ],
          "contour": [
           {
            "colorbar": {
             "outlinewidth": 0,
             "ticks": ""
            },
            "colorscale": [
             [
              0,
              "#0d0887"
             ],
             [
              0.1111111111111111,
              "#46039f"
             ],
             [
              0.2222222222222222,
              "#7201a8"
             ],
             [
              0.3333333333333333,
              "#9c179e"
             ],
             [
              0.4444444444444444,
              "#bd3786"
             ],
             [
              0.5555555555555556,
              "#d8576b"
             ],
             [
              0.6666666666666666,
              "#ed7953"
             ],
             [
              0.7777777777777778,
              "#fb9f3a"
             ],
             [
              0.8888888888888888,
              "#fdca26"
             ],
             [
              1,
              "#f0f921"
             ]
            ],
            "type": "contour"
           }
          ],
          "contourcarpet": [
           {
            "colorbar": {
             "outlinewidth": 0,
             "ticks": ""
            },
            "type": "contourcarpet"
           }
          ],
          "heatmap": [
           {
            "colorbar": {
             "outlinewidth": 0,
             "ticks": ""
            },
            "colorscale": [
             [
              0,
              "#0d0887"
             ],
             [
              0.1111111111111111,
              "#46039f"
             ],
             [
              0.2222222222222222,
              "#7201a8"
             ],
             [
              0.3333333333333333,
              "#9c179e"
             ],
             [
              0.4444444444444444,
              "#bd3786"
             ],
             [
              0.5555555555555556,
              "#d8576b"
             ],
             [
              0.6666666666666666,
              "#ed7953"
             ],
             [
              0.7777777777777778,
              "#fb9f3a"
             ],
             [
              0.8888888888888888,
              "#fdca26"
             ],
             [
              1,
              "#f0f921"
             ]
            ],
            "type": "heatmap"
           }
          ],
          "heatmapgl": [
           {
            "colorbar": {
             "outlinewidth": 0,
             "ticks": ""
            },
            "colorscale": [
             [
              0,
              "#0d0887"
             ],
             [
              0.1111111111111111,
              "#46039f"
             ],
             [
              0.2222222222222222,
              "#7201a8"
             ],
             [
              0.3333333333333333,
              "#9c179e"
             ],
             [
              0.4444444444444444,
              "#bd3786"
             ],
             [
              0.5555555555555556,
              "#d8576b"
             ],
             [
              0.6666666666666666,
              "#ed7953"
             ],
             [
              0.7777777777777778,
              "#fb9f3a"
             ],
             [
              0.8888888888888888,
              "#fdca26"
             ],
             [
              1,
              "#f0f921"
             ]
            ],
            "type": "heatmapgl"
           }
          ],
          "histogram": [
           {
            "marker": {
             "colorbar": {
              "outlinewidth": 0,
              "ticks": ""
             }
            },
            "type": "histogram"
           }
          ],
          "histogram2d": [
           {
            "colorbar": {
             "outlinewidth": 0,
             "ticks": ""
            },
            "colorscale": [
             [
              0,
              "#0d0887"
             ],
             [
              0.1111111111111111,
              "#46039f"
             ],
             [
              0.2222222222222222,
              "#7201a8"
             ],
             [
              0.3333333333333333,
              "#9c179e"
             ],
             [
              0.4444444444444444,
              "#bd3786"
             ],
             [
              0.5555555555555556,
              "#d8576b"
             ],
             [
              0.6666666666666666,
              "#ed7953"
             ],
             [
              0.7777777777777778,
              "#fb9f3a"
             ],
             [
              0.8888888888888888,
              "#fdca26"
             ],
             [
              1,
              "#f0f921"
             ]
            ],
            "type": "histogram2d"
           }
          ],
          "histogram2dcontour": [
           {
            "colorbar": {
             "outlinewidth": 0,
             "ticks": ""
            },
            "colorscale": [
             [
              0,
              "#0d0887"
             ],
             [
              0.1111111111111111,
              "#46039f"
             ],
             [
              0.2222222222222222,
              "#7201a8"
             ],
             [
              0.3333333333333333,
              "#9c179e"
             ],
             [
              0.4444444444444444,
              "#bd3786"
             ],
             [
              0.5555555555555556,
              "#d8576b"
             ],
             [
              0.6666666666666666,
              "#ed7953"
             ],
             [
              0.7777777777777778,
              "#fb9f3a"
             ],
             [
              0.8888888888888888,
              "#fdca26"
             ],
             [
              1,
              "#f0f921"
             ]
            ],
            "type": "histogram2dcontour"
           }
          ],
          "mesh3d": [
           {
            "colorbar": {
             "outlinewidth": 0,
             "ticks": ""
            },
            "type": "mesh3d"
           }
          ],
          "parcoords": [
           {
            "line": {
             "colorbar": {
              "outlinewidth": 0,
              "ticks": ""
             }
            },
            "type": "parcoords"
           }
          ],
          "pie": [
           {
            "automargin": true,
            "type": "pie"
           }
          ],
          "scatter": [
           {
            "marker": {
             "colorbar": {
              "outlinewidth": 0,
              "ticks": ""
             }
            },
            "type": "scatter"
           }
          ],
          "scatter3d": [
           {
            "line": {
             "colorbar": {
              "outlinewidth": 0,
              "ticks": ""
             }
            },
            "marker": {
             "colorbar": {
              "outlinewidth": 0,
              "ticks": ""
             }
            },
            "type": "scatter3d"
           }
          ],
          "scattercarpet": [
           {
            "marker": {
             "colorbar": {
              "outlinewidth": 0,
              "ticks": ""
             }
            },
            "type": "scattercarpet"
           }
          ],
          "scattergeo": [
           {
            "marker": {
             "colorbar": {
              "outlinewidth": 0,
              "ticks": ""
             }
            },
            "type": "scattergeo"
           }
          ],
          "scattergl": [
           {
            "marker": {
             "colorbar": {
              "outlinewidth": 0,
              "ticks": ""
             }
            },
            "type": "scattergl"
           }
          ],
          "scattermapbox": [
           {
            "marker": {
             "colorbar": {
              "outlinewidth": 0,
              "ticks": ""
             }
            },
            "type": "scattermapbox"
           }
          ],
          "scatterpolar": [
           {
            "marker": {
             "colorbar": {
              "outlinewidth": 0,
              "ticks": ""
             }
            },
            "type": "scatterpolar"
           }
          ],
          "scatterpolargl": [
           {
            "marker": {
             "colorbar": {
              "outlinewidth": 0,
              "ticks": ""
             }
            },
            "type": "scatterpolargl"
           }
          ],
          "scatterternary": [
           {
            "marker": {
             "colorbar": {
              "outlinewidth": 0,
              "ticks": ""
             }
            },
            "type": "scatterternary"
           }
          ],
          "surface": [
           {
            "colorbar": {
             "outlinewidth": 0,
             "ticks": ""
            },
            "colorscale": [
             [
              0,
              "#0d0887"
             ],
             [
              0.1111111111111111,
              "#46039f"
             ],
             [
              0.2222222222222222,
              "#7201a8"
             ],
             [
              0.3333333333333333,
              "#9c179e"
             ],
             [
              0.4444444444444444,
              "#bd3786"
             ],
             [
              0.5555555555555556,
              "#d8576b"
             ],
             [
              0.6666666666666666,
              "#ed7953"
             ],
             [
              0.7777777777777778,
              "#fb9f3a"
             ],
             [
              0.8888888888888888,
              "#fdca26"
             ],
             [
              1,
              "#f0f921"
             ]
            ],
            "type": "surface"
           }
          ],
          "table": [
           {
            "cells": {
             "fill": {
              "color": "#EBF0F8"
             },
             "line": {
              "color": "white"
             }
            },
            "header": {
             "fill": {
              "color": "#C8D4E3"
             },
             "line": {
              "color": "white"
             }
            },
            "type": "table"
           }
          ]
         },
         "layout": {
          "annotationdefaults": {
           "arrowcolor": "#2a3f5f",
           "arrowhead": 0,
           "arrowwidth": 1
          },
          "coloraxis": {
           "colorbar": {
            "outlinewidth": 0,
            "ticks": ""
           }
          },
          "colorscale": {
           "diverging": [
            [
             0,
             "#8e0152"
            ],
            [
             0.1,
             "#c51b7d"
            ],
            [
             0.2,
             "#de77ae"
            ],
            [
             0.3,
             "#f1b6da"
            ],
            [
             0.4,
             "#fde0ef"
            ],
            [
             0.5,
             "#f7f7f7"
            ],
            [
             0.6,
             "#e6f5d0"
            ],
            [
             0.7,
             "#b8e186"
            ],
            [
             0.8,
             "#7fbc41"
            ],
            [
             0.9,
             "#4d9221"
            ],
            [
             1,
             "#276419"
            ]
           ],
           "sequential": [
            [
             0,
             "#0d0887"
            ],
            [
             0.1111111111111111,
             "#46039f"
            ],
            [
             0.2222222222222222,
             "#7201a8"
            ],
            [
             0.3333333333333333,
             "#9c179e"
            ],
            [
             0.4444444444444444,
             "#bd3786"
            ],
            [
             0.5555555555555556,
             "#d8576b"
            ],
            [
             0.6666666666666666,
             "#ed7953"
            ],
            [
             0.7777777777777778,
             "#fb9f3a"
            ],
            [
             0.8888888888888888,
             "#fdca26"
            ],
            [
             1,
             "#f0f921"
            ]
           ],
           "sequentialminus": [
            [
             0,
             "#0d0887"
            ],
            [
             0.1111111111111111,
             "#46039f"
            ],
            [
             0.2222222222222222,
             "#7201a8"
            ],
            [
             0.3333333333333333,
             "#9c179e"
            ],
            [
             0.4444444444444444,
             "#bd3786"
            ],
            [
             0.5555555555555556,
             "#d8576b"
            ],
            [
             0.6666666666666666,
             "#ed7953"
            ],
            [
             0.7777777777777778,
             "#fb9f3a"
            ],
            [
             0.8888888888888888,
             "#fdca26"
            ],
            [
             1,
             "#f0f921"
            ]
           ]
          },
          "colorway": [
           "#636efa",
           "#EF553B",
           "#00cc96",
           "#ab63fa",
           "#FFA15A",
           "#19d3f3",
           "#FF6692",
           "#B6E880",
           "#FF97FF",
           "#FECB52"
          ],
          "font": {
           "color": "#2a3f5f"
          },
          "geo": {
           "bgcolor": "white",
           "lakecolor": "white",
           "landcolor": "#E5ECF6",
           "showlakes": true,
           "showland": true,
           "subunitcolor": "white"
          },
          "hoverlabel": {
           "align": "left"
          },
          "hovermode": "closest",
          "mapbox": {
           "style": "light"
          },
          "paper_bgcolor": "white",
          "plot_bgcolor": "#E5ECF6",
          "polar": {
           "angularaxis": {
            "gridcolor": "white",
            "linecolor": "white",
            "ticks": ""
           },
           "bgcolor": "#E5ECF6",
           "radialaxis": {
            "gridcolor": "white",
            "linecolor": "white",
            "ticks": ""
           }
          },
          "scene": {
           "xaxis": {
            "backgroundcolor": "#E5ECF6",
            "gridcolor": "white",
            "gridwidth": 2,
            "linecolor": "white",
            "showbackground": true,
            "ticks": "",
            "zerolinecolor": "white"
           },
           "yaxis": {
            "backgroundcolor": "#E5ECF6",
            "gridcolor": "white",
            "gridwidth": 2,
            "linecolor": "white",
            "showbackground": true,
            "ticks": "",
            "zerolinecolor": "white"
           },
           "zaxis": {
            "backgroundcolor": "#E5ECF6",
            "gridcolor": "white",
            "gridwidth": 2,
            "linecolor": "white",
            "showbackground": true,
            "ticks": "",
            "zerolinecolor": "white"
           }
          },
          "shapedefaults": {
           "line": {
            "color": "#2a3f5f"
           }
          },
          "ternary": {
           "aaxis": {
            "gridcolor": "white",
            "linecolor": "white",
            "ticks": ""
           },
           "baxis": {
            "gridcolor": "white",
            "linecolor": "white",
            "ticks": ""
           },
           "bgcolor": "#E5ECF6",
           "caxis": {
            "gridcolor": "white",
            "linecolor": "white",
            "ticks": ""
           }
          },
          "title": {
           "x": 0.05
          },
          "xaxis": {
           "automargin": true,
           "gridcolor": "white",
           "linecolor": "white",
           "ticks": "",
           "title": {
            "standoff": 15
           },
           "zerolinecolor": "white",
           "zerolinewidth": 2
          },
          "yaxis": {
           "automargin": true,
           "gridcolor": "white",
           "linecolor": "white",
           "ticks": "",
           "title": {
            "standoff": 15
           },
           "zerolinecolor": "white",
           "zerolinewidth": 2
          }
         }
        }
       }
      },
      "text/html": [
       "<div>\n",
       "        \n",
       "        \n",
       "            <div id=\"0f7883e4-138b-4ff0-bf3e-342475709c7e\" class=\"plotly-graph-div\" style=\"height:525px; width:100%;\"></div>\n",
       "            <script type=\"text/javascript\">\n",
       "                require([\"plotly\"], function(Plotly) {\n",
       "                    window.PLOTLYENV=window.PLOTLYENV || {};\n",
       "                    \n",
       "                if (document.getElementById(\"0f7883e4-138b-4ff0-bf3e-342475709c7e\")) {\n",
       "                    Plotly.newPlot(\n",
       "                        '0f7883e4-138b-4ff0-bf3e-342475709c7e',\n",
       "                        [{\"branchvalues\": \"total\", \"domain\": {\"x\": [0.0, 1.0], \"y\": [0.0, 1.0]}, \"hovertemplate\": \"labels=%{label}<br>id_student=%{value}<br>parent=%{parent}<br>id=%{id}<extra></extra>\", \"ids\": [\"\\u041a\\u043e\\u0441\\u0442\\u044f\\u043a\", \"\\u0431\\u0435\\u0437\\u043d\\u0430\\u0434\\u0451\\u0436\\u043d\\u044b\\u0435\", \"\\u043a\\u0430\\u043d\\u0434\\u0438\\u0434\\u0430\\u0442\\u044b \\u0432\\u043e \\u0444\\u043b\\u0430\\u0433\\u043c\\u0430\\u043d\\u044b (\\u0442\\u0440\\u0435\\u0431\\u0443\\u0435\\u0442\\u0441\\u044f \\u043f\\u0440\\u0438\\u043b\\u043e\\u0436\\u0435\\u043d\\u0438\\u0435 \\u0443\\u0441\\u0438\\u043b\\u0438\\u0439)\", \"\\u043d\\u0435\\u0434\\u043e\\u0442\\u044f\\u043d\\u0443\\u0432\\u0448\\u0438\\u0435 \\u0434\\u043e \\u0441\\u0434\\u0430\\u0447\\u0438 (\\u0442\\u0440\\u0435\\u0431\\u0443\\u0435\\u0442\\u0441\\u044f \\u043f\\u0440\\u0438\\u043b\\u043e\\u0436\\u0435\\u043d\\u0438\\u0435 \\u0443\\u0441\\u0438\\u043b\\u0438\\u0439)\", \"\\u043d\\u0435\\u0441\\u0435\\u0440\\u044c\\u0451\\u0437\\u043d\\u044b\\u0435 (\\u0432 \\u0437\\u043e\\u043d\\u0435 \\u0440\\u0438\\u0441\\u043a\\u0430)\", \"\\u0440\\u0430\\u0437\\u0433\\u0438\\u043b\\u044c\\u0434\\u044f\\u0438 (\\u043c\\u043e\\u0436\\u0435\\u043c \\u043f\\u043e\\u0442\\u0435\\u0440\\u044f\\u0442\\u044c)\", \"\\u0441\\u043f\\u043e\\u0441\\u043e\\u0431\\u043d\\u044b\\u0435 (\\u043c\\u043e\\u0433\\u0443\\u0442 \\u043f\\u043e\\u043f\\u043e\\u043b\\u043d\\u0438\\u0442\\u044c \\u043a\\u043e\\u0441\\u0442\\u044f\\u043a \\u0438\\u043b\\u0438 \\u0444\\u043b\\u0430\\u0433\\u0430\\u043c\\u043d\\u043e\\u0432)\", \"\\u0441\\u0442\\u0443\\u0434\\u0435\\u043d\\u0442\\u044b \\u0441 \\u043f\\u043e\\u0442\\u0435\\u043d\\u0446\\u0438\\u0430\\u043b\\u043e\\u043c (\\u0442\\u0440\\u0435\\u0431\\u0443\\u0435\\u0442\\u0441\\u044f \\u043f\\u0440\\u0438\\u043b\\u043e\\u0436\\u0435\\u043d\\u0438\\u0435 \\u0443\\u0441\\u0438\\u043b\\u0438\\u0439)\", \"\\u0444\\u043b\\u0430\\u0433\\u043c\\u0430\\u043d\\u044b\"], \"labels\": [\"\\u041a\\u043e\\u0441\\u0442\\u044f\\u043a\", \"\\u0431\\u0435\\u0437\\u043d\\u0430\\u0434\\u0451\\u0436\\u043d\\u044b\\u0435\", \"\\u043a\\u0430\\u043d\\u0434\\u0438\\u0434\\u0430\\u0442\\u044b \\u0432\\u043e \\u0444\\u043b\\u0430\\u0433\\u043c\\u0430\\u043d\\u044b (\\u0442\\u0440\\u0435\\u0431\\u0443\\u0435\\u0442\\u0441\\u044f \\u043f\\u0440\\u0438\\u043b\\u043e\\u0436\\u0435\\u043d\\u0438\\u0435 \\u0443\\u0441\\u0438\\u043b\\u0438\\u0439)\", \"\\u043d\\u0435\\u0434\\u043e\\u0442\\u044f\\u043d\\u0443\\u0432\\u0448\\u0438\\u0435 \\u0434\\u043e \\u0441\\u0434\\u0430\\u0447\\u0438 (\\u0442\\u0440\\u0435\\u0431\\u0443\\u0435\\u0442\\u0441\\u044f \\u043f\\u0440\\u0438\\u043b\\u043e\\u0436\\u0435\\u043d\\u0438\\u0435 \\u0443\\u0441\\u0438\\u043b\\u0438\\u0439)\", \"\\u043d\\u0435\\u0441\\u0435\\u0440\\u044c\\u0451\\u0437\\u043d\\u044b\\u0435 (\\u0432 \\u0437\\u043e\\u043d\\u0435 \\u0440\\u0438\\u0441\\u043a\\u0430)\", \"\\u0440\\u0430\\u0437\\u0433\\u0438\\u043b\\u044c\\u0434\\u044f\\u0438 (\\u043c\\u043e\\u0436\\u0435\\u043c \\u043f\\u043e\\u0442\\u0435\\u0440\\u044f\\u0442\\u044c)\", \"\\u0441\\u043f\\u043e\\u0441\\u043e\\u0431\\u043d\\u044b\\u0435 (\\u043c\\u043e\\u0433\\u0443\\u0442 \\u043f\\u043e\\u043f\\u043e\\u043b\\u043d\\u0438\\u0442\\u044c \\u043a\\u043e\\u0441\\u0442\\u044f\\u043a \\u0438\\u043b\\u0438 \\u0444\\u043b\\u0430\\u0433\\u0430\\u043c\\u043d\\u043e\\u0432)\", \"\\u0441\\u0442\\u0443\\u0434\\u0435\\u043d\\u0442\\u044b \\u0441 \\u043f\\u043e\\u0442\\u0435\\u043d\\u0446\\u0438\\u0430\\u043b\\u043e\\u043c (\\u0442\\u0440\\u0435\\u0431\\u0443\\u0435\\u0442\\u0441\\u044f \\u043f\\u0440\\u0438\\u043b\\u043e\\u0436\\u0435\\u043d\\u0438\\u0435 \\u0443\\u0441\\u0438\\u043b\\u0438\\u0439)\", \"\\u0444\\u043b\\u0430\\u0433\\u043c\\u0430\\u043d\\u044b\"], \"name\": \"\", \"parents\": [\"\", \"\", \"\", \"\", \"\", \"\", \"\", \"\", \"\"], \"type\": \"treemap\", \"values\": [746, 375, 243, 161, 826, 427, 994, 18, 843]}],\n",
       "                        {\"legend\": {\"tracegroupgap\": 0}, \"margin\": {\"b\": 1, \"l\": 1, \"r\": 25, \"t\": 1}, \"template\": {\"data\": {\"bar\": [{\"error_x\": {\"color\": \"#2a3f5f\"}, \"error_y\": {\"color\": \"#2a3f5f\"}, \"marker\": {\"line\": {\"color\": \"#E5ECF6\", \"width\": 0.5}}, \"type\": \"bar\"}], \"barpolar\": [{\"marker\": {\"line\": {\"color\": \"#E5ECF6\", \"width\": 0.5}}, \"type\": \"barpolar\"}], \"carpet\": [{\"aaxis\": {\"endlinecolor\": \"#2a3f5f\", \"gridcolor\": \"white\", \"linecolor\": \"white\", \"minorgridcolor\": \"white\", \"startlinecolor\": \"#2a3f5f\"}, \"baxis\": {\"endlinecolor\": \"#2a3f5f\", \"gridcolor\": \"white\", \"linecolor\": \"white\", \"minorgridcolor\": \"white\", \"startlinecolor\": \"#2a3f5f\"}, \"type\": \"carpet\"}], \"choropleth\": [{\"colorbar\": {\"outlinewidth\": 0, \"ticks\": \"\"}, \"type\": \"choropleth\"}], \"contour\": [{\"colorbar\": {\"outlinewidth\": 0, \"ticks\": \"\"}, \"colorscale\": [[0.0, \"#0d0887\"], [0.1111111111111111, \"#46039f\"], [0.2222222222222222, \"#7201a8\"], [0.3333333333333333, \"#9c179e\"], [0.4444444444444444, \"#bd3786\"], [0.5555555555555556, \"#d8576b\"], [0.6666666666666666, \"#ed7953\"], [0.7777777777777778, \"#fb9f3a\"], [0.8888888888888888, \"#fdca26\"], [1.0, \"#f0f921\"]], \"type\": \"contour\"}], \"contourcarpet\": [{\"colorbar\": {\"outlinewidth\": 0, \"ticks\": \"\"}, \"type\": \"contourcarpet\"}], \"heatmap\": [{\"colorbar\": {\"outlinewidth\": 0, \"ticks\": \"\"}, \"colorscale\": [[0.0, \"#0d0887\"], [0.1111111111111111, \"#46039f\"], [0.2222222222222222, \"#7201a8\"], [0.3333333333333333, \"#9c179e\"], [0.4444444444444444, \"#bd3786\"], [0.5555555555555556, \"#d8576b\"], [0.6666666666666666, \"#ed7953\"], [0.7777777777777778, \"#fb9f3a\"], [0.8888888888888888, \"#fdca26\"], [1.0, \"#f0f921\"]], \"type\": \"heatmap\"}], \"heatmapgl\": [{\"colorbar\": {\"outlinewidth\": 0, \"ticks\": \"\"}, \"colorscale\": [[0.0, \"#0d0887\"], [0.1111111111111111, \"#46039f\"], [0.2222222222222222, \"#7201a8\"], [0.3333333333333333, \"#9c179e\"], [0.4444444444444444, \"#bd3786\"], [0.5555555555555556, \"#d8576b\"], [0.6666666666666666, \"#ed7953\"], [0.7777777777777778, \"#fb9f3a\"], [0.8888888888888888, \"#fdca26\"], [1.0, \"#f0f921\"]], \"type\": \"heatmapgl\"}], \"histogram\": [{\"marker\": {\"colorbar\": {\"outlinewidth\": 0, \"ticks\": \"\"}}, \"type\": \"histogram\"}], \"histogram2d\": [{\"colorbar\": {\"outlinewidth\": 0, \"ticks\": \"\"}, \"colorscale\": [[0.0, \"#0d0887\"], [0.1111111111111111, \"#46039f\"], [0.2222222222222222, \"#7201a8\"], [0.3333333333333333, \"#9c179e\"], [0.4444444444444444, \"#bd3786\"], [0.5555555555555556, \"#d8576b\"], [0.6666666666666666, \"#ed7953\"], [0.7777777777777778, \"#fb9f3a\"], [0.8888888888888888, \"#fdca26\"], [1.0, \"#f0f921\"]], \"type\": \"histogram2d\"}], \"histogram2dcontour\": [{\"colorbar\": {\"outlinewidth\": 0, \"ticks\": \"\"}, \"colorscale\": [[0.0, \"#0d0887\"], [0.1111111111111111, \"#46039f\"], [0.2222222222222222, \"#7201a8\"], [0.3333333333333333, \"#9c179e\"], [0.4444444444444444, \"#bd3786\"], [0.5555555555555556, \"#d8576b\"], [0.6666666666666666, \"#ed7953\"], [0.7777777777777778, \"#fb9f3a\"], [0.8888888888888888, \"#fdca26\"], [1.0, \"#f0f921\"]], \"type\": \"histogram2dcontour\"}], \"mesh3d\": [{\"colorbar\": {\"outlinewidth\": 0, \"ticks\": \"\"}, \"type\": \"mesh3d\"}], \"parcoords\": [{\"line\": {\"colorbar\": {\"outlinewidth\": 0, \"ticks\": \"\"}}, \"type\": \"parcoords\"}], \"pie\": [{\"automargin\": true, \"type\": \"pie\"}], \"scatter\": [{\"marker\": {\"colorbar\": {\"outlinewidth\": 0, \"ticks\": \"\"}}, \"type\": \"scatter\"}], \"scatter3d\": [{\"line\": {\"colorbar\": {\"outlinewidth\": 0, \"ticks\": \"\"}}, \"marker\": {\"colorbar\": {\"outlinewidth\": 0, \"ticks\": \"\"}}, \"type\": \"scatter3d\"}], \"scattercarpet\": [{\"marker\": {\"colorbar\": {\"outlinewidth\": 0, \"ticks\": \"\"}}, \"type\": \"scattercarpet\"}], \"scattergeo\": [{\"marker\": {\"colorbar\": {\"outlinewidth\": 0, \"ticks\": \"\"}}, \"type\": \"scattergeo\"}], \"scattergl\": [{\"marker\": {\"colorbar\": {\"outlinewidth\": 0, \"ticks\": \"\"}}, \"type\": \"scattergl\"}], \"scattermapbox\": [{\"marker\": {\"colorbar\": {\"outlinewidth\": 0, \"ticks\": \"\"}}, \"type\": \"scattermapbox\"}], \"scatterpolar\": [{\"marker\": {\"colorbar\": {\"outlinewidth\": 0, \"ticks\": \"\"}}, \"type\": \"scatterpolar\"}], \"scatterpolargl\": [{\"marker\": {\"colorbar\": {\"outlinewidth\": 0, \"ticks\": \"\"}}, \"type\": \"scatterpolargl\"}], \"scatterternary\": [{\"marker\": {\"colorbar\": {\"outlinewidth\": 0, \"ticks\": \"\"}}, \"type\": \"scatterternary\"}], \"surface\": [{\"colorbar\": {\"outlinewidth\": 0, \"ticks\": \"\"}, \"colorscale\": [[0.0, \"#0d0887\"], [0.1111111111111111, \"#46039f\"], [0.2222222222222222, \"#7201a8\"], [0.3333333333333333, \"#9c179e\"], [0.4444444444444444, \"#bd3786\"], [0.5555555555555556, \"#d8576b\"], [0.6666666666666666, \"#ed7953\"], [0.7777777777777778, \"#fb9f3a\"], [0.8888888888888888, \"#fdca26\"], [1.0, \"#f0f921\"]], \"type\": \"surface\"}], \"table\": [{\"cells\": {\"fill\": {\"color\": \"#EBF0F8\"}, \"line\": {\"color\": \"white\"}}, \"header\": {\"fill\": {\"color\": \"#C8D4E3\"}, \"line\": {\"color\": \"white\"}}, \"type\": \"table\"}]}, \"layout\": {\"annotationdefaults\": {\"arrowcolor\": \"#2a3f5f\", \"arrowhead\": 0, \"arrowwidth\": 1}, \"coloraxis\": {\"colorbar\": {\"outlinewidth\": 0, \"ticks\": \"\"}}, \"colorscale\": {\"diverging\": [[0, \"#8e0152\"], [0.1, \"#c51b7d\"], [0.2, \"#de77ae\"], [0.3, \"#f1b6da\"], [0.4, \"#fde0ef\"], [0.5, \"#f7f7f7\"], [0.6, \"#e6f5d0\"], [0.7, \"#b8e186\"], [0.8, \"#7fbc41\"], [0.9, \"#4d9221\"], [1, \"#276419\"]], \"sequential\": [[0.0, \"#0d0887\"], [0.1111111111111111, \"#46039f\"], [0.2222222222222222, \"#7201a8\"], [0.3333333333333333, \"#9c179e\"], [0.4444444444444444, \"#bd3786\"], [0.5555555555555556, \"#d8576b\"], [0.6666666666666666, \"#ed7953\"], [0.7777777777777778, \"#fb9f3a\"], [0.8888888888888888, \"#fdca26\"], [1.0, \"#f0f921\"]], \"sequentialminus\": [[0.0, \"#0d0887\"], [0.1111111111111111, \"#46039f\"], [0.2222222222222222, \"#7201a8\"], [0.3333333333333333, \"#9c179e\"], [0.4444444444444444, \"#bd3786\"], [0.5555555555555556, \"#d8576b\"], [0.6666666666666666, \"#ed7953\"], [0.7777777777777778, \"#fb9f3a\"], [0.8888888888888888, \"#fdca26\"], [1.0, \"#f0f921\"]]}, \"colorway\": [\"#636efa\", \"#EF553B\", \"#00cc96\", \"#ab63fa\", \"#FFA15A\", \"#19d3f3\", \"#FF6692\", \"#B6E880\", \"#FF97FF\", \"#FECB52\"], \"font\": {\"color\": \"#2a3f5f\"}, \"geo\": {\"bgcolor\": \"white\", \"lakecolor\": \"white\", \"landcolor\": \"#E5ECF6\", \"showlakes\": true, \"showland\": true, \"subunitcolor\": \"white\"}, \"hoverlabel\": {\"align\": \"left\"}, \"hovermode\": \"closest\", \"mapbox\": {\"style\": \"light\"}, \"paper_bgcolor\": \"white\", \"plot_bgcolor\": \"#E5ECF6\", \"polar\": {\"angularaxis\": {\"gridcolor\": \"white\", \"linecolor\": \"white\", \"ticks\": \"\"}, \"bgcolor\": \"#E5ECF6\", \"radialaxis\": {\"gridcolor\": \"white\", \"linecolor\": \"white\", \"ticks\": \"\"}}, \"scene\": {\"xaxis\": {\"backgroundcolor\": \"#E5ECF6\", \"gridcolor\": \"white\", \"gridwidth\": 2, \"linecolor\": \"white\", \"showbackground\": true, \"ticks\": \"\", \"zerolinecolor\": \"white\"}, \"yaxis\": {\"backgroundcolor\": \"#E5ECF6\", \"gridcolor\": \"white\", \"gridwidth\": 2, \"linecolor\": \"white\", \"showbackground\": true, \"ticks\": \"\", \"zerolinecolor\": \"white\"}, \"zaxis\": {\"backgroundcolor\": \"#E5ECF6\", \"gridcolor\": \"white\", \"gridwidth\": 2, \"linecolor\": \"white\", \"showbackground\": true, \"ticks\": \"\", \"zerolinecolor\": \"white\"}}, \"shapedefaults\": {\"line\": {\"color\": \"#2a3f5f\"}}, \"ternary\": {\"aaxis\": {\"gridcolor\": \"white\", \"linecolor\": \"white\", \"ticks\": \"\"}, \"baxis\": {\"gridcolor\": \"white\", \"linecolor\": \"white\", \"ticks\": \"\"}, \"bgcolor\": \"#E5ECF6\", \"caxis\": {\"gridcolor\": \"white\", \"linecolor\": \"white\", \"ticks\": \"\"}}, \"title\": {\"x\": 0.05}, \"xaxis\": {\"automargin\": true, \"gridcolor\": \"white\", \"linecolor\": \"white\", \"ticks\": \"\", \"title\": {\"standoff\": 15}, \"zerolinecolor\": \"white\", \"zerolinewidth\": 2}, \"yaxis\": {\"automargin\": true, \"gridcolor\": \"white\", \"linecolor\": \"white\", \"ticks\": \"\", \"title\": {\"standoff\": 15}, \"zerolinecolor\": \"white\", \"zerolinewidth\": 2}}}},\n",
       "                        {\"responsive\": true}\n",
       "                    ).then(function(){\n",
       "                            \n",
       "var gd = document.getElementById('0f7883e4-138b-4ff0-bf3e-342475709c7e');\n",
       "var x = new MutationObserver(function (mutations, observer) {{\n",
       "        var display = window.getComputedStyle(gd).display;\n",
       "        if (!display || display === 'none') {{\n",
       "            console.log([gd, 'removed!']);\n",
       "            Plotly.purge(gd);\n",
       "            observer.disconnect();\n",
       "        }}\n",
       "}});\n",
       "\n",
       "// Listen for the removal of the full notebook cells\n",
       "var notebookContainer = gd.closest('#notebook-container');\n",
       "if (notebookContainer) {{\n",
       "    x.observe(notebookContainer, {childList: true});\n",
       "}}\n",
       "\n",
       "// Listen for the clearing of the current output cell\n",
       "var outputEl = gd.closest('.output');\n",
       "if (outputEl) {{\n",
       "    x.observe(outputEl, {childList: true});\n",
       "}}\n",
       "\n",
       "                        })\n",
       "                };\n",
       "                });\n",
       "            </script>\n",
       "        </div>"
      ]
     },
     "metadata": {},
     "output_type": "display_data"
    }
   ],
   "source": [
    "fig = px.treemap(RFM_segt_agg, path=[\"Segment\"], values='id_student')\n",
    "fig.update_layout(margin = dict(t=1, l=1, r=25, b=1))\n",
    "fig.show()"
   ]
  },
  {
   "cell_type": "markdown",
   "metadata": {},
   "source": [
    "- Мы видим, что почти половина наблюдений (3 крупных сегмента) - это неплохо сдавшие. \n",
    "\n",
    "- Неудов, как описано выше, мало. Кроме того больше четверти из них можно \"спасти\" (опишу ниже).\n",
    "\n",
    "- Флагманов значительное количество, это тоже положительно.\n",
    "\n",
    "- Однако, самый крупный сегмент - \"способные\", но на них мы опереться не можем, поэтому с ними надо работать.\n",
    "\n",
    "- Кроме того, у нас сравнительно небольшой \"Костяк\", те, в ком можно быть уеренным. Это нехорошо. Но можно его раздуть за счёт \"способных\", поработав над их скоростью и качеством сдач. Костяк должен быть большим.\n",
    "\n",
    "- Также мы имеем два небольших сегмента с которыми тоже надо поработать, их можно притянуть к хорошим и отличным группам студентов, сделав их аж \"флагманами\" (будет +243 флагмана!) или частью \"костяка\".\n",
    "\n",
    "- Одна из крупнейших групп - \"несерьёзные\", работать с ними сложно, они долго и плохо усваивают, но как-то сдают. Надо обратить внимание на их проблемы. При хорошем исходе, тоже можно привести их в \"костяк\".\n",
    "\n",
    "- У нас весомые группы \"безнадёжных\" студентов и \"разгильдяев\". Если на первых тратить силы я бы не рекомендовал, то вторые могут просто скатиться в неуды. За их внимание и прилежность надо побороться, усилить контроль за их обучением.\n",
    "\n",
    "- Особая группа, которую не стоит сбрасывать со счетов - \"недотянувшие до сдачи\", их, кстати, не так уж мало - целых 161.Мы могли бы их сохранить на обучении, так как там небольшой недобор баллов до зачёта (всего 1-9 баллов по 100-бальной шкале). Может торопятся, может не хватает разъяснений. Так что можно привести их хотя бы в условную укрупнённую группу \"сдавшие\"\n"
   ]
  },
  {
   "cell_type": "markdown",
   "metadata": {},
   "source": [
    "## РЕЗЮМЕ (свод формулировок)\n",
    "\n",
    "### 1. По визуализации распределения наших метрик RFM среди студентов по рангам мы видим в целом положительную картину:\n",
    "\n",
    "- Сроки сдачи у большинства нормальные, самая большая группа - близкие к кратчайшим. При этом периоды сдачи близки между собой по количеству студентов.\n",
    "\n",
    "- Подавляющее большинство взявшихся за экзамены сдали их (один или оба). С неудом остались лишь 11%.\n",
    "\n",
    "- Преобладают оценки хорошо и отлично. На 3 балла (если перевести в 5-бальную шкалу) сдали 27 процентов - внушительная но не самая большая группа. Несдавших экзамены совсем не много, кроме того среди них есть студенты \"2-го сегмента\" - которые скорее всего смогли бы сдать на зачёт при определённых условиях.\n",
    "\n",
    "### 2. По распределению метрики M (среднего количества баллов для разных рангов), F (завершаемости) и R (сроков сдачи) можем сказать, что:\n",
    "\n",
    "- Из тех, кто не сдал, совсем уж лодырей не так много в каждом периоде времени сдачи, при этом, в любом периоде большинство несдавших принадлежат 2-й группе - тем, которые немного недотянули.\n",
    "\n",
    "- Сроки, в которые студенты не сдают, есть разные, в каждом периоде их почти одинаковое количество, но всё же бОльшая группа полчивших неуд - это \"торопыги\", на втором месте \"долго соображающие\", сдавшие в последний момент.\n",
    "\n",
    "- Студентов, сдавших только 1 из 2 экзаменов слишком мало, почти все они сдавали в средние сроки. Средние баллы у них так себе - результаты одного из экзаменов тянут их на дно по среднему баллу, кого-то даже в условный неуд.\n",
    "\n",
    "- Большинство студентов находятся в условной категории \"сдали\". \n",
    "- Ни в одном периоде нет превалирующих \"троечников\", почти всегда это \"хорошисты\". \n",
    "- Наибольшее количество \"отличников\" отмечается среди тех, кто сдавал в последнюю очередь.\n",
    "\n",
    "- Самые большие группы успешно сдающих находятся в 3-4 периоде - то есть в средних сроках. \n",
    "- В 4 периоде (довольно коротие сроки) находится самая большая группа \"хорошистов\" по сравнению с другими периодами, эта группа самая большая и среди групп по оценками в своём периоде. Этих \"хорошистов\" 418.\n",
    "\n",
    "- В целом больших отклонений по периодам нет: нет такого, что в какие-то сроки намного больше или намного меньше успешно сдавали.\n",
    "- Также у успешно сдавших не наблюдается большой разницы между группами по баллам от периода к периоду: везде есть приличное количество \"троечников\", \"хорошистов\" и \"отличников\".\n",
    "\n",
    "### 3. Анализ величины каждого сегмента, вкупе с описанием и структурой каждого из них (подробно описано выше), показывает:\n",
    "\n",
    "- Что почти половина наблюдений (3 крупных сегмента) - это неплохо сдавшие. Проваливших экзамен действительно мало. Кроме того больше четверти из них можно \"спасти\" (опишу это ниже).\n",
    "\n",
    "- Флагманов значительное количество, это тоже положительно.\n",
    "\n",
    "- Однако, самый крупный сегмент - это \"способные\", на них мы опереться не можем, поэтому с ними лучше поработать.\n",
    "\n",
    "- Кроме того, у нас сравнительно небольшой \"Костяк\" - тех, в ком можно быть уеренным. Это нехорошо. Но можно его раздуть  за счёт \"способных\", поработав над их скоростью и качеством сдач. Костяк должен быть большим.\n",
    "\n",
    "- Также мы имеем два небольших сегмента с которыми тоже надо поработать и это приведёт к успеху. Их можно притянуть к хорошим и отличным группам студентов, сделав их аж \"флагманами\" (будет +243 флагмана!) или частью \"костяка\".\n",
    "\n",
    "- Одна из крупнейших групп - \"несерьёзные\", работать с ними сложно, они долго и плохо усваивают, но как-то сдают. Надо обратить внимание на их проблемы. При хорошем исходе, тоже можно привести их в \"костяк\".\n",
    "\n",
    "- У нас весомые группы \"безнадёжных\" студентов и \"разгильдяев\". Если на первых тратить силы я бы не рекомендовал, то вторые могут просто скатиться до оценок \"неуд\". За их внимание и прилежность надо побороться, усилить контроль за их обучением.\n",
    "\n",
    "- Особая группа, которую не стоит сбрасывать со счетов - \"недотянувшие до сдачи\", их, кстати, не так уж мало - целых 161. Мы могли бы их сохранить на обучении, так как там небольшой недобор баллов до зачёта (всего 1-9 баллов по 100-бальной шкале). Может торопятся, может не хватает разъяснений. Так что можно привести их хотя бы в условную укрупнённую группу \"сдавшие\".\n",
    "\n",
    "## Выводы\n",
    "Анализ имеющихся данных показывает, что даже без приложения усилий ситуация со сдачей курсов неплохая.\n",
    "Если в целом картина размеров сегментов нас устраивает, то никого не надо никуда \"переводить\". Всё зависит от норм в индустрии.\n",
    "<br><br>\n",
    "Также я бы рекомендовал проверить, а не слишком ли просты рассматриваемые нами курсы. \n",
    "<br><br>\n",
    "Если же ситуацию по сдаче, всё же надо менять, то обращение к этому анализу поможет стабилизировать и улучшить картину.\n",
    "<br><br>\n",
    "(!)Мы рассмотрели только имеющиеся у нас полные данные по экзаменам, а это данные по 6 курсам, причём предметы \n",
    "только CCC и DDD. Полную картину получим, как только у нас будут все данные по всем предметам и экзаменам. Надо этим \n",
    "заняться, так как по неполным данным мы не сможем ответить на поставленные тобой важные вопросы.\n",
    "<br><br>\n",
    "Тем не менее, сейчас мы говорим про студентов, которые дошли до этапа под названием \"экзамен\".Чем больше эти люди будут проходить курсов, тем больше мы узнаем про их поведение, пользуясь этой методикой."
   ]
  }
 ],
 "metadata": {
  "kernelspec": {
   "display_name": "Python 3",
   "language": "python",
   "name": "python3"
  },
  "language_info": {
   "codemirror_mode": {
    "name": "ipython",
    "version": 3
   },
   "file_extension": ".py",
   "mimetype": "text/x-python",
   "name": "python",
   "nbconvert_exporter": "python",
   "pygments_lexer": "ipython3",
   "version": "3.7.3"
  }
 },
 "nbformat": 4,
 "nbformat_minor": 4
}
